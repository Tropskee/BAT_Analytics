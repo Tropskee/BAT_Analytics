{
 "cells": [
  {
   "cell_type": "code",
   "execution_count": 1,
   "id": "a027f2ac-fd75-4309-a5f7-2c900181b892",
   "metadata": {},
   "outputs": [
    {
     "name": "stderr",
     "output_type": "stream",
     "text": [
      "/Users/andyczeropski/opt/miniconda3/envs/bat/lib/python3.10/site-packages/xgboost/compat.py:36: FutureWarning: pandas.Int64Index is deprecated and will be removed from pandas in a future version. Use pandas.Index with the appropriate dtype instead.\n",
      "  from pandas import MultiIndex, Int64Index\n"
     ]
    },
    {
     "data": {
      "text/plain": [
       "29634.15"
      ]
     },
     "execution_count": 1,
     "metadata": {},
     "output_type": "execute_result"
    }
   ],
   "source": [
    "import pandas as pd\n",
    "import numpy as np\n",
    "import joblib\n",
    "import xgboost as xgb\n",
    "from sklearn.pipeline import Pipeline\n",
    "\n",
    "tst_data = [\"subaru\", \"wrx sti\", 2004, 55000, \"blue\", 2022, 2.5, 4]\n",
    "columns = ['make', 'model', \"year\", 'miles', 'color', 'auction_year', 'engine_size', 'cylinders']\n",
    "tst = pd.DataFrame()\n",
    "for idx, col in enumerate(columns):\n",
    "    tst[col] = pd.Series(tst_data[idx])\n",
    "\n",
    "# Load XGB model\n",
    "xgb_model = xgb.XGBRegressor()\n",
    "xgb_model.load_model('../api/models/xgb_model.h5')\n",
    "preprocessor = joblib.load('../api/models/preprocessor.joblib')\n",
    "\n",
    "model_pipeline = Pipeline(steps=[\n",
    "        ('preprocessor', preprocessor),\n",
    "        ('model', xgb_model)\n",
    "    ])\n",
    "\n",
    "y_pred = model_pipeline.predict(tst)\n",
    "y_pred[0]"
   ]
  },
  {
   "cell_type": "code",
   "execution_count": null,
   "id": "8decfec3-7373-40b8-bc35-15a0f2ffe0a0",
   "metadata": {},
   "outputs": [],
   "source": []
  }
 ],
 "metadata": {
  "kernelspec": {
   "display_name": "Python 3 (ipykernel)",
   "language": "python",
   "name": "python3"
  },
  "language_info": {
   "codemirror_mode": {
    "name": "ipython",
    "version": 3
   },
   "file_extension": ".py",
   "mimetype": "text/x-python",
   "name": "python",
   "nbconvert_exporter": "python",
   "pygments_lexer": "ipython3",
   "version": "3.8.13"
  },
  "vscode": {
   "interpreter": {
    "hash": "0e234e385a5b7e0e894fcb2065b1d7ae05ac9fe0a0c6565a44090a42360f200c"
   }
  }
 },
 "nbformat": 4,
 "nbformat_minor": 5
}
