{
 "cells": [
  {
   "cell_type": "code",
   "execution_count": 1,
   "id": "0568a73a-c579-4729-aa44-9addb9c6df22",
   "metadata": {},
   "outputs": [],
   "source": [
    "import pandas as pd\n",
    "import numpy as np"
   ]
  },
  {
   "cell_type": "code",
   "execution_count": 43,
   "id": "b3e372ee-e48b-4aef-bd7b-20cea47ddcc6",
   "metadata": {},
   "outputs": [],
   "source": [
    "path = r\"./src/vehicle_data/BAT_auction_data.csv\"\n",
    "bat_data = pd.read_csv(path)\n",
    "\n",
    "data = bat_data.copy()\n",
    "data = data.drop([\"URL\", \"Mileage Notes\"], axis=1)"
   ]
  },
  {
   "cell_type": "markdown",
   "id": "5869162e-59dd-443d-acf8-4cf482cd86b7",
   "metadata": {},
   "source": [
    "## Convert details tab into comma separated features"
   ]
  },
  {
   "cell_type": "code",
   "execution_count": 3,
   "id": "16476075-366e-4a10-9ed6-0a44b415dbfa",
   "metadata": {},
   "outputs": [
    {
     "data": {
      "text/html": [
       "<div>\n",
       "<style scoped>\n",
       "    .dataframe tbody tr th:only-of-type {\n",
       "        vertical-align: middle;\n",
       "    }\n",
       "\n",
       "    .dataframe tbody tr th {\n",
       "        vertical-align: top;\n",
       "    }\n",
       "\n",
       "    .dataframe thead th {\n",
       "        text-align: right;\n",
       "    }\n",
       "</style>\n",
       "<table border=\"1\" class=\"dataframe\">\n",
       "  <thead>\n",
       "    <tr style=\"text-align: right;\">\n",
       "      <th></th>\n",
       "      <th>transmission</th>\n",
       "      <th>paint</th>\n",
       "      <th>carfax</th>\n",
       "    </tr>\n",
       "  </thead>\n",
       "  <tbody>\n",
       "    <tr>\n",
       "      <th>0</th>\n",
       "      <td>two-speed transmission w/centrifugal clutch</td>\n",
       "      <td>white fiberglass body</td>\n",
       "      <td>None</td>\n",
       "    </tr>\n",
       "    <tr>\n",
       "      <th>1</th>\n",
       "      <td>two-speed transmission</td>\n",
       "      <td>white fiberglass body</td>\n",
       "      <td>None</td>\n",
       "    </tr>\n",
       "    <tr>\n",
       "      <th>2</th>\n",
       "      <td>two-speed transmission w/centrifugal clutch</td>\n",
       "      <td>white fiberglass body</td>\n",
       "      <td>None</td>\n",
       "    </tr>\n",
       "    <tr>\n",
       "      <th>3</th>\n",
       "      <td>two-speed transmission</td>\n",
       "      <td>white fiberglass body</td>\n",
       "      <td>None</td>\n",
       "    </tr>\n",
       "    <tr>\n",
       "      <th>4</th>\n",
       "      <td>two-speed transmission w/ centrifugal clutch</td>\n",
       "      <td>white fiberglass body</td>\n",
       "      <td>None</td>\n",
       "    </tr>\n",
       "  </tbody>\n",
       "</table>\n",
       "</div>"
      ],
      "text/plain": [
       "                                   transmission                  paint carfax\n",
       "0   two-speed transmission w/centrifugal clutch  white fiberglass body   None\n",
       "1                        two-speed transmission  white fiberglass body   None\n",
       "2   two-speed transmission w/centrifugal clutch  white fiberglass body   None\n",
       "3                        two-speed transmission  white fiberglass body   None\n",
       "4  two-speed transmission w/ centrifugal clutch  white fiberglass body   None"
      ]
     },
     "execution_count": 3,
     "metadata": {},
     "output_type": "execute_result"
    }
   ],
   "source": [
    "details_df = pd.DataFrame()\n",
    "\n",
    "identifiers = [\"transmission\", \"paint\", \"carfax\"]\n",
    "colors = [\"white\", \"black\", \"gray\", \"silver\", \"blue\", \"red\", \"brown\", \"green\", \"orange\", \"beige\", \"purple\", \"gold\", \"yellow\"]\n",
    "\n",
    "for details in data[\"Details\"]:\n",
    "    transmission, paint, carfax = [], [], []\n",
    "    detail_lst = []\n",
    "\n",
    "    details_separated = details.split(\",\")\n",
    "    details_separated = [detail.strip().lower() for detail in details_separated]\n",
    "    \n",
    "    for detail in details_separated:\n",
    "        if identifiers[0] in detail:\n",
    "            transmission.append(detail)\n",
    "        if identifiers[1] in detail or any(color in detail for color in colors):\n",
    "            paint.append(detail)\n",
    "        if identifiers[2] in detail:\n",
    "            carfax.append(detail)\n",
    "            \n",
    "    if len(transmission) < 1:\n",
    "        transmission.append(None)\n",
    "    if len(paint) < 1:\n",
    "        paint.append(None)\n",
    "    if len(carfax) < 1:\n",
    "        carfax.append(None)\n",
    "    [detail_lst.append(detail) for detail in [transmission[0], paint[0], carfax[0]]]\n",
    "    # print(detail_lst, '\\n')\n",
    "    details_df = details_df.append(pd.Series(detail_lst), ignore_index=True)\n",
    "\n",
    "details_df.reset_index()\n",
    "details_df.columns = identifiers\n",
    "details_df.head()"
   ]
  },
  {
   "cell_type": "markdown",
   "id": "c2a6431f-ccd7-4fb8-a51a-c8af016a2862",
   "metadata": {},
   "source": [
    "### Dealing with transmissions"
   ]
  },
  {
   "cell_type": "code",
   "execution_count": 62,
   "id": "eb8be263-6d11-4f7e-b104-8099b92f9f72",
   "metadata": {},
   "outputs": [
    {
     "data": {
      "text/plain": [
       "72150"
      ]
     },
     "execution_count": 62,
     "metadata": {},
     "output_type": "execute_result"
    }
   ],
   "source": [
    "# manual or auto - true or false\n",
    "\n",
    "# Assign true or false depending on if it's a manual transmission\n",
    "manual_lst = []\n",
    "for trans in details_df.transmission:\n",
    "    if trans and 'manual' in trans:\n",
    "        manual_lst.append(True)\n",
    "    else:\n",
    "        manual_lst.append(False)\n",
    "\n",
    "len(manual_lst)"
   ]
  },
  {
   "cell_type": "markdown",
   "id": "351936a0-06c3-4670-a2ad-d610f1a78487",
   "metadata": {},
   "source": [
    "### Dealing with paint"
   ]
  },
  {
   "cell_type": "code",
   "execution_count": 63,
   "id": "2b4fd705-d471-4ac5-a515-1d677f70c8a0",
   "metadata": {},
   "outputs": [
    {
     "data": {
      "text/plain": [
       "72150"
      ]
     },
     "execution_count": 63,
     "metadata": {},
     "output_type": "execute_result"
    }
   ],
   "source": [
    "# Paint may include upholstery color as well - need to separate and grab only paint color\n",
    "# has Carfax - true or false\n",
    "\n",
    "color_str_lst = []\n",
    "for color_str in details_df.paint:\n",
    "    first_color = \"\"\n",
    "    first_color_idx = float('inf')\n",
    "    for color in colors:\n",
    "        if color_str and color in color_str:\n",
    "            color_idx = color_str.find(color)\n",
    "            if color_idx < first_color_idx:\n",
    "                first_color = color\n",
    "                first_color_idx = color_idx\n",
    "    if first_color:\n",
    "        color_str_lst.append(first_color)\n",
    "    else:\n",
    "        color_str_lst.append(None)\n",
    "        \n",
    "len(color_str_lst)"
   ]
  },
  {
   "cell_type": "markdown",
   "id": "98cd18de-45ba-44d6-8c14-553a93c40622",
   "metadata": {},
   "source": [
    "### Dealing with carfax"
   ]
  },
  {
   "cell_type": "code",
   "execution_count": 66,
   "id": "b8708e36-921a-4d4c-9d3d-5b3bc95f9095",
   "metadata": {},
   "outputs": [
    {
     "data": {
      "text/plain": [
       "72150"
      ]
     },
     "execution_count": 66,
     "metadata": {},
     "output_type": "execute_result"
    }
   ],
   "source": [
    "carfax_lst = []\n",
    "for carfax in details_df.carfax:\n",
    "    if carfax:\n",
    "        carfax_lst.append(True)\n",
    "    else:\n",
    "        carfax_lst.append(False)\n",
    "        \n",
    "len(carfax_lst)"
   ]
  },
  {
   "cell_type": "markdown",
   "id": "cf6cb82f-58e2-4e91-9a22-381ac7dbeb4d",
   "metadata": {},
   "source": [
    "### Adding transmission, paint, and carfax to data dataframe"
   ]
  },
  {
   "cell_type": "code",
   "execution_count": 76,
   "id": "198f9cef-3f85-4b5c-bf8c-f3e47df79a74",
   "metadata": {},
   "outputs": [
    {
     "data": {
      "text/plain": [
       "72150"
      ]
     },
     "execution_count": 76,
     "metadata": {},
     "output_type": "execute_result"
    }
   ],
   "source": [
    "columns = ['manual_trans_bool', 'paint_str', 'carfax_bool']\n",
    "data_lst = [manual_lst, color_str_lst, carfax_lst]\n",
    "\n",
    "for idx, column in enumerate(columns):\n",
    "    data[column] = data_lst[idx]\n",
    "\n",
    "len(data)"
   ]
  },
  {
   "cell_type": "markdown",
   "id": "e4231d01-2017-49e2-a360-6a0f704aba6b",
   "metadata": {},
   "source": [
    "## Start Training"
   ]
  },
  {
   "cell_type": "code",
   "execution_count": null,
   "id": "bd707d50-f6db-4d46-9e60-4f41af8db35d",
   "metadata": {},
   "outputs": [],
   "source": []
  }
 ],
 "metadata": {
  "kernelspec": {
   "display_name": "Python 3 (ipykernel)",
   "language": "python",
   "name": "python3"
  },
  "language_info": {
   "codemirror_mode": {
    "name": "ipython",
    "version": 3
   },
   "file_extension": ".py",
   "mimetype": "text/x-python",
   "name": "python",
   "nbconvert_exporter": "python",
   "pygments_lexer": "ipython3",
   "version": "3.8.12"
  }
 },
 "nbformat": 4,
 "nbformat_minor": 5
}
