{
 "cells": [
  {
   "cell_type": "code",
   "execution_count": 40,
   "id": "af5c681b-b502-4987-a95f-efac478c4d82",
   "metadata": {},
   "outputs": [],
   "source": [
    "import requests\n",
    "import re\n",
    "import time\n",
    "from bs4 import BeautifulSoup\n",
    "import pandas as pd\n",
    "import os"
   ]
  },
  {
   "cell_type": "markdown",
   "id": "d6a820c9-e89b-40c9-9e49-f5786edd18bf",
   "metadata": {
    "tags": []
   },
   "source": [
    "## Read URL's from .csv"
   ]
  },
  {
   "cell_type": "code",
   "execution_count": 41,
   "id": "3593c7a7-ee77-44c6-96ad-e3d7ccf6956d",
   "metadata": {},
   "outputs": [
    {
     "data": {
      "text/plain": [
       "0    https://bringatrailer.com/listing/1975-acoma-m...\n",
       "1    https://bringatrailer.com/listing/1975-acoma-m...\n",
       "2    https://bringatrailer.com/listing/1975-acoma-m...\n",
       "3    https://bringatrailer.com/listing/1997-acura-i...\n",
       "4    https://bringatrailer.com/listing/1995-acura-i...\n",
       "Name: URL, dtype: object"
      ]
     },
     "execution_count": 41,
     "metadata": {},
     "output_type": "execute_result"
    }
   ],
   "source": [
    "make_urls = pd.read_csv('./urls/makes_urls/makes_urls.csv')\n",
    "make_urls[\"URL\"].head()"
   ]
  },
  {
   "cell_type": "markdown",
   "id": "da158634-815d-4e04-a352-60b20ef6efcf",
   "metadata": {},
   "source": [
    "## Loop through URL's and save all html detail"
   ]
  },
  {
   "cell_type": "code",
   "execution_count": 43,
   "id": "7980a767-e20a-4d11-885b-5153ee4ae749",
   "metadata": {},
   "outputs": [
    {
     "name": "stdout",
     "output_type": "stream",
     "text": [
      ".....\n"
     ]
    }
   ],
   "source": [
    "'''\n",
    "Loop through all urls for a specific model, get html data and save to csv\n",
    "'''\n",
    "for idx, url in enumerate(make_urls[\"URL\"][:1]):\n",
    "    # Filepath to csv to read/write\n",
    "    fp = r'./vehicle_html/html_data.csv'\n",
    "    error_fp = r'./vehicle_html/url_errors.csv'\n",
    "    \n",
    "    # For restarting scraper - check if exists so we can skip\n",
    "    if os.path.exists(fp):\n",
    "        collected_html = pd.read_csv(fp)\n",
    "        if collected_html[\"url\"].str.contains(url).any():\n",
    "            print(\"sss\")\n",
    "            continue\n",
    "            \n",
    "    if os.path.exists(error_fp):\n",
    "        url_errors = pd.read_csv(error_fp)\n",
    "        if url_errors[\"url\"].str.contains(url).any():\n",
    "            print('eee')\n",
    "            continue\n",
    "    \n",
    "    # Get html data for vehicle\n",
    "    try:\n",
    "        html = requests.get(url)\n",
    "        soup = BeautifulSoup(html.content, 'html.parser').find(\"body\").find(\"main\")\n",
    "        pd_db = pd.DataFrame()\n",
    "        pd_db['url'] = [url]\n",
    "        pd_db['html'] = [soup]\n",
    "        pd_db.reset_index()\n",
    "        if os.path.exists(fp):\n",
    "            pd_db.to_csv(fp, mode='a', header=False)\n",
    "        else:\n",
    "            pd_db.to_csv(fp, mode='a', header=True)\n",
    "        print('.....')\n",
    "    except requests.exceptions.RequestException as e:  # This is the correct syntax\n",
    "        pd_db = pd.DataFrame()\n",
    "        pd_db['url'] = [url]\n",
    "        pd_db.reset_index()\n",
    "        if os.path.exists(error_fp):\n",
    "            pd_db.to_csv(error_fp, mode='a', header=False)\n",
    "        else:\n",
    "            pd_db.to_csv(error_fp, mode='a', header=True)\n",
    "        print('xxxxx')\n",
    "        pass\n",
    "        \n",
    "    \n",
    "    "
   ]
  }
 ],
 "metadata": {
  "kernelspec": {
   "display_name": "Python 3 (ipykernel)",
   "language": "python",
   "name": "python3"
  },
  "language_info": {
   "codemirror_mode": {
    "name": "ipython",
    "version": 3
   },
   "file_extension": ".py",
   "mimetype": "text/x-python",
   "name": "python",
   "nbconvert_exporter": "python",
   "pygments_lexer": "ipython3",
   "version": "3.8.13"
  }
 },
 "nbformat": 4,
 "nbformat_minor": 5
}
