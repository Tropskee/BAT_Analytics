{
 "cells": [
  {
   "cell_type": "code",
   "execution_count": 1,
   "id": "a00b421a-c5fe-4a1b-9a51-9dbc24305c43",
   "metadata": {},
   "outputs": [],
   "source": [
    "import pandas as pd\n",
    "import requests\n",
    "from bs4 import BeautifulSoup\n",
    "import re\n",
    "import numpy as np\n",
    "import datetime"
   ]
  },
  {
   "cell_type": "code",
   "execution_count": 2,
   "id": "316aaeb2-43ac-4287-9563-631542409ca7",
   "metadata": {},
   "outputs": [],
   "source": [
    "url = \"https://bringatrailer.com/listing/2003-mitsubishi-lancer-evolution-41/\"\n",
    "url = \"https://bringatrailer.com/listing/2005-subaru-impreza-wrx-sti-85/\""
   ]
  },
  {
   "cell_type": "code",
   "execution_count": 3,
   "id": "9e2e4aa6-6635-430b-868f-fe584e67c982",
   "metadata": {},
   "outputs": [],
   "source": [
    "\n",
    "pd_db = pd.DataFrame()\n",
    "\n",
    "# Pandas DF column names\n",
    "COLUMNS = ['make', 'model', 'year', 'kilometers', 'miles', 'mileage notes', \n",
    "           'sale_status', 'final bid price', 'auction date', 'vin', 'details', 'url']\n",
    "\n",
    "NEEDED_COLUMNS = ['make', 'model', 'year', 'miles', 'color', 'auction_year', 'engine_size', 'cylinders']"
   ]
  },
  {
   "cell_type": "code",
   "execution_count": 2,
   "id": "231895f9-0832-4b95-99a2-e92dd946d5ac",
   "metadata": {},
   "outputs": [],
   "source": [
    "url = \"https://bringatrailer.com/listing/1997-porsche-911-carrera-4s-62/\"\n",
    "# url = \"https://bringatrailer.com/listing/2000-subaru-impreza-2-5rs-23/\"\n",
    "# url = \"https://bringatrailer.com/listing/2007-subaru-impreza-wrx-sti-5/\""
   ]
  },
  {
   "cell_type": "code",
   "execution_count": 3,
   "id": "4dbc0d8f-47b1-456c-901f-89150d7cf3d2",
   "metadata": {},
   "outputs": [],
   "source": [
    "html = requests.get(url)\n",
    "# Pull html data\n",
    "vehicle_data_soup = BeautifulSoup(html.content, 'html.parser')\n",
    "auction_result_string = vehicle_data_soup.find(\"h1\", class_ = 'post-title')"
   ]
  },
  {
   "cell_type": "code",
   "execution_count": 4,
   "id": "ce169978-ff5c-4b1e-878d-f17fa2900e91",
   "metadata": {},
   "outputs": [
    {
     "data": {
      "text/plain": [
       "'Porsche 911 Carrera 4S Coupe 6-Speed'"
      ]
     },
     "execution_count": 4,
     "metadata": {},
     "output_type": "execute_result"
    }
   ],
   "source": [
    "words = auction_result_string.text\n",
    "model2 = \"\"\n",
    "\n",
    "for idx, word in enumerate(words.split()):\n",
    "    if word.isdigit():\n",
    "        # print(word, idx)\n",
    "        model2 = \" \".join(words.split()[idx+1:])\n",
    "        break\n",
    "model2"
   ]
  },
  {
   "cell_type": "code",
   "execution_count": 5,
   "id": "fe999472-9741-4d5f-ba9a-f0cf34b6aedb",
   "metadata": {},
   "outputs": [
    {
     "data": {
      "text/plain": [
       "'porsche 911 carrera 4s coupe 6-speed'"
      ]
     },
     "execution_count": 5,
     "metadata": {},
     "output_type": "execute_result"
    }
   ],
   "source": [
    "try:\n",
    "    post_title_soup = vehicle_data_soup.find(\"h1\", class_ = 'post-title').text\n",
    "    post_title = \"\"\n",
    "\n",
    "    for idx, word in enumerate(post_title_soup.split()):\n",
    "        if word.isdigit():\n",
    "            post_title = \" \".join(post_title_soup.split()[idx+1:]).strip(' ')\n",
    "            break\n",
    "\n",
    "except:\n",
    "    post_title = \"\"\n",
    "\n",
    "post_title.lower()"
   ]
  },
  {
   "cell_type": "code",
   "execution_count": 4,
   "id": "82908828-8465-449f-b502-e4a9d712e40f",
   "metadata": {},
   "outputs": [
    {
     "name": "stdout",
     "output_type": "stream",
     "text": [
      "https://bringatrailer.com/wp-content/uploads/2022/10/2005_subaru_impreza-wrx-sti_img_3727-7-31397.jpg?fit=940%2C626\n",
      "Auction is over\n",
      "Subaru WRX STi 22000\n"
     ]
    }
   ],
   "source": [
    "# get vehicle html\n",
    "try:\n",
    "    html = requests.get(url)\n",
    "except requests.exceptions.RequestException as e:  # This is the correct syntax\n",
    "    print(\"URL is not correct\")\n",
    "\n",
    "# Pull html data\n",
    "vehicle_data_soup = BeautifulSoup(html.content, 'html.parser')\n",
    "\n",
    "# Get image\n",
    "image = vehicle_data_soup.find_all('img', class_='post-image')[0]['src']\n",
    "print(image)\n",
    "\n",
    "# Parse html and get auction data - \"Sold for $XXXX on XX/XX/XXXX\"\n",
    "\n",
    "auction_result_string = vehicle_data_soup.find(\"span\", class_ = 'listing-available-countdown')\n",
    "\n",
    "# Get auction year and price\n",
    "if auction_result_string:\n",
    "    print('Auction is ongoing..')\n",
    "    # Get vehicle sale date\n",
    "    auction_year = datetime.datetime.now().year\n",
    "    # print(auction_year)\n",
    "    # Get current vehicle price\n",
    "    auction_current_price = vehicle_data_soup.find(\"strong\", class_ = 'info-value').text\n",
    "    print(auction_current_price)\n",
    "    sale_price = int(re.findall('[0-9]+,[0-9]+', auction_current_price)[0].replace(\",\",\"\"))\n",
    "    # print(sale_price)\n",
    "\n",
    "else:\n",
    "    auction_result_string = vehicle_data_soup.find(\"span\", class_ = 'info-value').text\n",
    "    print('Auction is over')\n",
    "    sale_date = auction_result_string.split()[-1]\n",
    "    auction_year = (datetime.datetime.strptime(sale_date, '%m/%d/%y').year)\n",
    "    # print(auction_year)\n",
    "    # Get vehicle sale price\n",
    "    sale_price = int(re.findall('[0-9]+,[0-9]+', auction_result_string)[0].replace(\",\",\"\"))\n",
    "    # print(sale_price)\n",
    "\n",
    "# Get Make & Model\n",
    "vehicle_make, vehicle_model = [s.text for s in vehicle_data_soup.find_all(\"button\", class_ = 'group-title')][0:2]\n",
    "vehicle_make = vehicle_make.replace('Make', '').strip(' ')\n",
    "vehicle_model = vehicle_model.replace('Model', '').replace(vehicle_make, '').strip(' ')\n",
    "\n",
    "print(vehicle_make, vehicle_model, sale_price)"
   ]
  },
  {
   "cell_type": "code",
   "execution_count": 5,
   "id": "0e0df967-1e2a-4627-ae0e-7d059ce26ac1",
   "metadata": {},
   "outputs": [
    {
     "name": "stdout",
     "output_type": "stream",
     "text": [
      "<span class=\"listing-available-countdown\" data-countdown=\"44758470\" data-until=\"1669235400\"></span>\n"
     ]
    }
   ],
   "source": [
    "print(auction_result_string)"
   ]
  },
  {
   "cell_type": "code",
   "execution_count": 6,
   "id": "be403d57-3b68-4add-ba28-cd558f37ba43",
   "metadata": {},
   "outputs": [
    {
     "name": "stdout",
     "output_type": "stream",
     "text": [
      "51000\n",
      "['Chassis: JA3AH86F73U088113', '51k Miles', 'Turbocharged 2.0-Liter Inline-Four', 'Five-Speed Manual Transaxle ', 'Viscous Center Differential', 'Limited-Slip Rear Differential', 'Rally Red Paint', 'Black & Blue Cloth Upholstery', '17\" Enkei Wheels', 'HID Headlights', 'HKS Camshafts', 'Boostlabs Turbocharger', 'E85 ECU Tune', 'Recaro Front Seats', 'Air Conditioning', 'Sony Stereo', 'Carfax report']\n"
     ]
    }
   ],
   "source": [
    "# Get listing details - vin, miles, etc. - second entry\n",
    "listing_details_html = vehicle_data_soup.find_all(\"div\", class_=\"item\")\n",
    "\n",
    "\n",
    "\n",
    "# Find the listing_details using keyword \"Listing Details\"\n",
    "for detail in listing_details_html:\n",
    "    if detail.find(\"strong\") and \"Listing Details\" in detail.find(\"strong\"):\n",
    "        listing_details = detail\n",
    "        break\n",
    "\n",
    "        \n",
    "        \n",
    "# Extract details from html \"li\"\n",
    "results = None\n",
    "results = [detail.text for detail in listing_details.find_all('li')]\n",
    "\n",
    "\n",
    "# Get vehicle mileage, normally second entry in \"results\"\n",
    "is_mileage_units = True\n",
    "mileage_words = ['Miles', 'miles', 'Mile', 'mile'] \n",
    "kilometer_words = ['Kilometers', 'kilometers', 'Kilometer', 'kilometer', 'KM', 'km']\n",
    "for result in results:\n",
    "    result = result.replace(\"-\",\" \")\n",
    "    if any(word in result for word in kilometer_words):\n",
    "        vehicle_mileage_notes = result\n",
    "        is_mileage_units = False\n",
    "        break\n",
    "    elif any(word in result for word in mileage_words):\n",
    "        vehicle_mileage_notes = result\n",
    "        break\n",
    "\n",
    "        \n",
    "# Extract Mileage figure from vehicle_mileage_notes\n",
    "if vehicle_mileage_notes is None:\n",
    "    vehicle_mileage = None\n",
    "else:\n",
    "    vehicle_mileage = re.findall('[0-9]+,[0-9]+', vehicle_mileage_notes)\n",
    "    if len(vehicle_mileage) < 1: # If no match is found, mileage must contain 'k' at end i.e., 47k miles\n",
    "        vehicle_mileage = re.findall('[0-9]+[kK]', vehicle_mileage_notes)\n",
    "        if len(vehicle_mileage) >= 1: # If match is found, strip k from end\n",
    "            vehicle_mileage = [vehicle_mileage[0].strip('k').strip('K') + ',000']\n",
    "    if len(vehicle_mileage) < 1: # Still no match found, try mileage < 1,000\n",
    "        vehicle_mileage = re.findall('[0-9]+', vehicle_mileage_notes)\n",
    "    if vehicle_mileage == []:\n",
    "        vehicle_mileage = None\n",
    "vehicle_mileage = vehicle_mileage if type(vehicle_mileage) is not list else vehicle_mileage[0]\n",
    "\n",
    "# Check if units are in miles or km and make adjustments if needed\n",
    "if vehicle_mileage is not None:\n",
    "    vehicle_mileage = int(vehicle_mileage.replace(',',''))\n",
    "    if is_mileage_units: # units are mileage\n",
    "        vehicle_kilometers = int(1.60934 * vehicle_mileage)\n",
    "    else: # units are km\n",
    "        vehicle_kilometers = vehicle_mileage\n",
    "        vehicle_mileage = int(0.621371 * vehicle_mileage)\n",
    "        \n",
    "      \n",
    "    \n",
    "print(vehicle_mileage)\n",
    "print(results)"
   ]
  },
  {
   "cell_type": "code",
   "execution_count": 7,
   "id": "ab89d2b3-9cab-45c3-b76e-2c39790bb542",
   "metadata": {},
   "outputs": [
    {
     "name": "stdout",
     "output_type": "stream",
     "text": [
      "red\n"
     ]
    }
   ],
   "source": [
    "colors = [\"white\", \"black\", \"gray\", \"silver\", \"blue\", \"red\", \"brown\", \"green\", \"orange\", \"beige\", \"purple\", \"gold\", \"yellow\"]\n",
    "paint_string = None\n",
    "paint_color = None\n",
    "\n",
    "for result in results:\n",
    "    if paint_string:\n",
    "        break\n",
    "    results_separated = result.split(\",\")\n",
    "    results_separated = [result.strip().lower() for detail in results_separated]\n",
    "    \n",
    "    for detail in results_separated:\n",
    "        if \"paint\" in detail or any(color in detail for color in colors):\n",
    "            paint_string = detail\n",
    "            break\n",
    "    \n",
    "for word in paint_string.split():\n",
    "    if any(color in word for color in colors):\n",
    "        paint_color = word\n",
    "\n",
    "\n",
    "print(paint_color)"
   ]
  },
  {
   "cell_type": "code",
   "execution_count": 8,
   "id": "903c4a8b-76e4-4f95-a835-ad4f3608d98d",
   "metadata": {},
   "outputs": [
    {
     "name": "stdout",
     "output_type": "stream",
     "text": [
      "2003\n"
     ]
    }
   ],
   "source": [
    "# Get vehicle model year\n",
    "model_year_text = vehicle_data_soup.find(\"h1\", class_ = 'post-title').text\n",
    "model_year = re.findall(\"(\\d{4})\", model_year_text)\n",
    "\n",
    "############ NOT NEEDED ################\n",
    "# Check sale status - i.e., sold or not\n",
    "sale_status = \"Not Sold\"\n",
    "if \"Sold\" in auction_result_string or \"sold\" in auction_result_string:\n",
    "    sale_status = \"Sold\"\n",
    "#######################################\n",
    "    \n",
    "print(model_year[0])\n"
   ]
  },
  {
   "cell_type": "code",
   "execution_count": 9,
   "id": "cfe7570b-a68e-46f0-8d29-d33c3dfbd6d2",
   "metadata": {},
   "outputs": [
    {
     "ename": "NameError",
     "evalue": "name 'joined_results' is not defined",
     "output_type": "error",
     "traceback": [
      "\u001b[0;31m---------------------------------------------------------------------------\u001b[0m",
      "\u001b[0;31mNameError\u001b[0m                                 Traceback (most recent call last)",
      "Cell \u001b[0;32mIn [9], line 16\u001b[0m\n\u001b[1;32m     10\u001b[0m vehicle_vin \u001b[38;5;241m=\u001b[39m results[\u001b[38;5;241m0\u001b[39m]\u001b[38;5;241m.\u001b[39msplit()[\u001b[38;5;241m-\u001b[39m\u001b[38;5;241m1\u001b[39m]\n\u001b[1;32m     12\u001b[0m \u001b[38;5;66;03m# # Combine results into 1 string\u001b[39;00m\n\u001b[1;32m     13\u001b[0m \u001b[38;5;66;03m# joined_results = \" ,\".join(results)\u001b[39;00m\n\u001b[0;32m---> 16\u001b[0m \u001b[38;5;28mprint\u001b[39m(vehicle_make, vehicle_model, model_year[\u001b[38;5;241m0\u001b[39m], vehicle_kilometers, vehicle_mileage, vehicle_mileage_notes, sale_status, auction_year, vehicle_vin, \u001b[43mjoined_results\u001b[49m, url)\n",
      "\u001b[0;31mNameError\u001b[0m: name 'joined_results' is not defined"
     ]
    }
   ],
   "source": [
    "# Get vehicle sale date\n",
    "# sale_date = auction_result_string.split()[-1]\n",
    "# print(sale_date)\n",
    "# auction_year = (datetime.datetime.strptime(sale_date, '%m/%d/%y').year)\n",
    "\n",
    "# Get vehicle sale price\n",
    "# sale_price = int(re.findall('[0-9]+,[0-9]+', auction_result_string)[0].replace(\",\",\"\"))\n",
    "\n",
    "# Get vehicle vin, first entry in \"results\"\n",
    "vehicle_vin = results[0].split()[-1]\n",
    "\n",
    "# # Combine results into 1 string\n",
    "# joined_results = \" ,\".join(results)\n",
    "\n",
    "\n",
    "print(vehicle_make, vehicle_model, model_year[0], vehicle_kilometers, vehicle_mileage, vehicle_mileage_notes, sale_status, auction_year, vehicle_vin, joined_results, url)"
   ]
  },
  {
   "cell_type": "markdown",
   "id": "42b8b5c1-232a-4426-bd85-00a8cda79cde",
   "metadata": {},
   "source": [
    "## Extracting Engine Size and # Cylinders"
   ]
  },
  {
   "cell_type": "code",
   "execution_count": 14,
   "id": "d65aacb4-ed1e-47be-80d4-dbaf6fee24e6",
   "metadata": {},
   "outputs": [
    {
     "name": "stdout",
     "output_type": "stream",
     "text": [
      "2.0-liter\n"
     ]
    }
   ],
   "source": [
    "# Split the remaining details data\n",
    "# results_pd = pd.DataFrame()\n",
    "# results_pd['details'] = joined_results\n",
    "# split_results = results_pd.details.str.split(',', expand=False)\n",
    "# Combine results into 1 string\n",
    "# joined_results = \" ,\".join(results)\n",
    "# split_results = joined_results.split(',')\n",
    "# split_results = results\n",
    "\n",
    "# split_results = split_results.str.lower()\n",
    "# Extract engine size from details\n",
    "eng_keywords = [\"liter\", \"v6\", \"v8\", \"engine\", \"inline\", \"three\", \"four\", \"five\", \"six\", \"eight\", \"ci\", \"cc\", \"flathead\", \"cylinder\", \"dohc\", \"sohc\", \"ohc\", \"turbocharged\"]\n",
    "eng_size_keywords = [\"liter\", \"ci\", \"cc\"]\n",
    "eng_size_re = [\"[0-9]+.[0-9]+\", \"[0-9]+.[0-9]+l\"]\n",
    "# Best number finding regex ever!\n",
    "match = False\n",
    "engine_size_string = None\n",
    "\n",
    "for details in results:\n",
    "    # print(details)\n",
    "    if match:\n",
    "        break\n",
    "    for detail in details.split():\n",
    "        detail=detail.lower()\n",
    "        # print(detail)\n",
    "        if any(word in detail for word in eng_keywords):\n",
    "            match = True\n",
    "            if len(re.findall(eng_size_re[0], detail)) > 0 or len(re.findall(eng_size_re[1], detail)) > 0:\n",
    "                engine_size_string = detail\n",
    "            elif any(w in detail for w in eng_size_keywords):\n",
    "                engine_size_string = detail\n",
    "                print('this')\n",
    "\n",
    "                # engine_size_string = details\n",
    "                # print(detail)\n",
    "                break\n",
    "\n",
    "\n",
    "print(engine_size_string)"
   ]
  },
  {
   "cell_type": "code",
   "execution_count": 11,
   "id": "c0a7abe3-66db-479d-b30e-58e103b5afb3",
   "metadata": {},
   "outputs": [
    {
     "data": {
      "text/plain": [
       "2.0"
      ]
     },
     "execution_count": 11,
     "metadata": {},
     "output_type": "execute_result"
    }
   ],
   "source": [
    "numeric_const_pattern = '[-+]? (?: (?: \\d* \\. \\d+ ) | (?: \\d+ \\.? ) )(?: [Ee] [+-]? \\d+ ) ?'\n",
    "rx = re.compile(numeric_const_pattern, re.VERBOSE)\n",
    "engine_size = None\n",
    "\n",
    "match = rx.findall(engine_size_string)\n",
    "\n",
    "# Convert cc or ci to liters\n",
    "if \"cc\" in engine_size_string or \"cubic centimeters\" in engine_size_string:\n",
    "    size = engine_size_string.replace(\"cc\", \"\")\n",
    "    size = engine_size_string.replace(\"cubic centimeters\", \"\")\n",
    "    # print('cc found', size)\n",
    "    engine_size = (float(size)/1000)\n",
    "\n",
    "elif \"ci\" in engine_size_string or \"c.i.\" in engine_size_string:\n",
    "    size = engine_size_string.replace(\"ci\", \"\")\n",
    "    size = engine_size_string.replace(\"c.i.\", \"\")\n",
    "    engine_size = (float(size)*0.0163871)\n",
    "\n",
    "else:\n",
    "    if float(match[0]) > 12:\n",
    "        engine_size = 2.0\n",
    "    else:\n",
    "        engine_size = (float(match[0]))\n",
    "        \n",
    "engine_size"
   ]
  },
  {
   "cell_type": "code",
   "execution_count": null,
   "id": "1a7218bd-95ff-4783-b1a5-98185e3d36eb",
   "metadata": {},
   "outputs": [],
   "source": []
  },
  {
   "cell_type": "code",
   "execution_count": null,
   "id": "b092aac5-1631-49ef-b699-73047e776ee5",
   "metadata": {},
   "outputs": [],
   "source": []
  },
  {
   "cell_type": "code",
   "execution_count": 33,
   "id": "154e1a32-370c-4efe-a2d0-75e76182149f",
   "metadata": {},
   "outputs": [
    {
     "name": "stdout",
     "output_type": "stream",
     "text": [
      "4\n"
     ]
    }
   ],
   "source": [
    "cylinder_keywords = [\"inline\", \"cylinder\", \"cyl\",\"two\", \"three\", \"four\", \"five\", \"six\", \"eight\", \"v4\", \"v6\", \"v8\", \"v10\", \"v12\", \"v-4\", \"v-6\", \"vr6\", \"v-8\", \"v-10\", \"v-12\", \"w12\", \"w-12\", \"flat4\", \"flat-4\", \"flat 4\", \"flat6\", \"flat 6\", \"flat-6\"]\n",
    "cylinder_re = [\"\"]\n",
    "singles = [\"1\", \"single\"]\n",
    "ones = [\"1\", \"one\"]\n",
    "twins = [\"2\", \"twin\"]\n",
    "triples = [\"3\", \"triple\"]\n",
    "twos = [\"2\", \"two\"]\n",
    "threes = [\"3\", \"three\"]\n",
    "fours = [\"4\", \"four\"]\n",
    "fives = [\"5\", \"five\"]\n",
    "sixes = [\"6\", \"six\"]\n",
    "eights = [\"8\", \"eight\"]\n",
    "tens = [\"10\", \"ten\"]\n",
    "twelves = [\"12\", \"twelve\"]\n",
    "\n",
    "num_cyl_string = None\n",
    "match = False\n",
    "\n",
    "# Extract num of cylinders\n",
    "for sentence in split_results:\n",
    "    if match:\n",
    "        break\n",
    "    words = sentence.lower().split(\" \")\n",
    "    for word in words:\n",
    "        if any(w in word for w in cylinder_keywords):\n",
    "            num_cyl_string = word\n",
    "            match = True\n",
    "            break\n",
    "\n",
    "num_cylinders = None\n",
    "\n",
    "# Extract int from cylinder str\n",
    "for k in [threes, fours, fives, sixes, eights, tens, twelves, ones, twos, singles, twins, triples]:\n",
    "    if k[0] in num_cyl_string or k[1] in num_cyl_string:\n",
    "        num_cylinders = int(k[0])\n",
    "        match = True\n",
    "        break\n",
    "\n",
    "        \n",
    "print(num_cylinders)\n"
   ]
  },
  {
   "cell_type": "code",
   "execution_count": 45,
   "id": "b69753d4-e46a-4fc8-b738-9537b47233ef",
   "metadata": {},
   "outputs": [],
   "source": [
    "vehicle_dict = {\n",
    "    \"make\": vehicle_make,\n",
    "    \"model\": vehicle_model,\n",
    "    \"year\": model_year[0],\n",
    "    \"miles\": vehicle_mileage,\n",
    "    \"color\": paint_color,\n",
    "    \"auction_year\": auction_year,\n",
    "    \"engine_size\": engine_size,\n",
    "    \"cylinders\": num_cylinders\n",
    "}"
   ]
  },
  {
   "cell_type": "code",
   "execution_count": 46,
   "id": "d76862cb-42c7-433a-8239-830b1ed11b69",
   "metadata": {},
   "outputs": [
    {
     "data": {
      "text/plain": [
       "'Mitsubishi'"
      ]
     },
     "execution_count": 46,
     "metadata": {},
     "output_type": "execute_result"
    }
   ],
   "source": []
  },
  {
   "cell_type": "code",
   "execution_count": null,
   "id": "324f3839-2059-4da9-b901-7dbf05929f46",
   "metadata": {},
   "outputs": [],
   "source": []
  }
 ],
 "metadata": {
  "kernelspec": {
   "display_name": "Python 3 (ipykernel)",
   "language": "python",
   "name": "python3"
  },
  "language_info": {
   "codemirror_mode": {
    "name": "ipython",
    "version": 3
   },
   "file_extension": ".py",
   "mimetype": "text/x-python",
   "name": "python",
   "nbconvert_exporter": "python",
   "pygments_lexer": "ipython3",
   "version": "3.8.13"
  }
 },
 "nbformat": 4,
 "nbformat_minor": 5
}
