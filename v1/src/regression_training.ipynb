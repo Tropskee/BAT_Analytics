{
 "cells": [
  {
   "cell_type": "code",
   "execution_count": 168,
   "id": "1d4d9668-bbec-4a80-bb41-43e07caf78a5",
   "metadata": {},
   "outputs": [
    {
     "name": "stdout",
     "output_type": "stream",
     "text": [
      "Data ingested -- Found 69873 Rows\n"
     ]
    }
   ],
   "source": [
    "import pandas as pd\n",
    "import numpy as np\n",
    "import pickle\n",
    "from numpy.random import RandomState\n",
    "from sklearn import datasets\n",
    "from sklearn.model_selection import train_test_split\n",
    "from sklearn.preprocessing import MinMaxScaler\n",
    "from sklearn.pipeline import Pipeline\n",
    "from sklearn.impute import SimpleImputer\n",
    "from sklearn.preprocessing import OneHotEncoder, MinMaxScaler\n",
    "from sklearn.pipeline import Pipeline\n",
    "from sklearn.compose import ColumnTransformer\n",
    "from sklearn.metrics import mean_absolute_error\n",
    "from sklearn.model_selection import GridSearchCV\n",
    "import lightgbm as ltb\n",
    "import os\n",
    "os.environ['KMP_DUPLICATE_LIB_OK']='True'\n",
    "from xgboost import XGBRegressor\n",
    "\n",
    "import seaborn as sns\n",
    "\n",
    "# Make NumPy printouts easier to read.\n",
    "np.set_printoptions(precision=3, suppress=True)\n",
    "\n",
    "## Read CSV\n",
    "data_source = r\"./src/vehicle_data/bat_training_data.csv\"\n",
    "df = pd.read_csv(data_source)\n",
    "\n",
    "print(f'Data ingested -- Found {len(df)} Rows')"
   ]
  },
  {
   "cell_type": "code",
   "execution_count": 169,
   "id": "0f80f329-d265-4907-b450-d9ec680f2ec5",
   "metadata": {},
   "outputs": [
    {
     "data": {
      "text/html": [
       "<div>\n",
       "<style scoped>\n",
       "    .dataframe tbody tr th:only-of-type {\n",
       "        vertical-align: middle;\n",
       "    }\n",
       "\n",
       "    .dataframe tbody tr th {\n",
       "        vertical-align: top;\n",
       "    }\n",
       "\n",
       "    .dataframe thead th {\n",
       "        text-align: right;\n",
       "    }\n",
       "</style>\n",
       "<table border=\"1\" class=\"dataframe\">\n",
       "  <thead>\n",
       "    <tr style=\"text-align: right;\">\n",
       "      <th></th>\n",
       "      <th>Make</th>\n",
       "      <th>Model</th>\n",
       "      <th>Miles</th>\n",
       "      <th>Final Bid Price</th>\n",
       "      <th>paint_str</th>\n",
       "      <th>auction_year</th>\n",
       "      <th>auction_month</th>\n",
       "      <th>adj_model_year</th>\n",
       "    </tr>\n",
       "  </thead>\n",
       "  <tbody>\n",
       "    <tr>\n",
       "      <th>5</th>\n",
       "      <td>acura</td>\n",
       "      <td>integra</td>\n",
       "      <td>52000.0</td>\n",
       "      <td>26500.0</td>\n",
       "      <td>green</td>\n",
       "      <td>2022</td>\n",
       "      <td>11</td>\n",
       "      <td>1997.0</td>\n",
       "    </tr>\n",
       "    <tr>\n",
       "      <th>10</th>\n",
       "      <td>acura</td>\n",
       "      <td>integra</td>\n",
       "      <td>72000.0</td>\n",
       "      <td>7100.0</td>\n",
       "      <td>black</td>\n",
       "      <td>2022</td>\n",
       "      <td>10</td>\n",
       "      <td>1995.0</td>\n",
       "    </tr>\n",
       "    <tr>\n",
       "      <th>11</th>\n",
       "      <td>acura</td>\n",
       "      <td>integra</td>\n",
       "      <td>43000.0</td>\n",
       "      <td>8900.0</td>\n",
       "      <td>white</td>\n",
       "      <td>2022</td>\n",
       "      <td>9</td>\n",
       "      <td>1995.0</td>\n",
       "    </tr>\n",
       "    <tr>\n",
       "      <th>12</th>\n",
       "      <td>acura</td>\n",
       "      <td>integra</td>\n",
       "      <td>47000.0</td>\n",
       "      <td>11800.0</td>\n",
       "      <td>None</td>\n",
       "      <td>2022</td>\n",
       "      <td>8</td>\n",
       "      <td>1994.0</td>\n",
       "    </tr>\n",
       "    <tr>\n",
       "      <th>13</th>\n",
       "      <td>acura</td>\n",
       "      <td>integra</td>\n",
       "      <td>35000.0</td>\n",
       "      <td>15500.0</td>\n",
       "      <td>silver</td>\n",
       "      <td>2022</td>\n",
       "      <td>8</td>\n",
       "      <td>2000.0</td>\n",
       "    </tr>\n",
       "  </tbody>\n",
       "</table>\n",
       "</div>"
      ],
      "text/plain": [
       "     Make    Model    Miles  Final Bid Price paint_str  auction_year  \\\n",
       "5   acura  integra  52000.0          26500.0     green          2022   \n",
       "10  acura  integra  72000.0           7100.0     black          2022   \n",
       "11  acura  integra  43000.0           8900.0     white          2022   \n",
       "12  acura  integra  47000.0          11800.0      None          2022   \n",
       "13  acura  integra  35000.0          15500.0    silver          2022   \n",
       "\n",
       "    auction_month  adj_model_year  \n",
       "5              11          1997.0  \n",
       "10             10          1995.0  \n",
       "11              9          1995.0  \n",
       "12              8          1994.0  \n",
       "13              8          2000.0  "
      ]
     },
     "execution_count": 169,
     "metadata": {},
     "output_type": "execute_result"
    }
   ],
   "source": [
    "target_feature = \"Final Bid Price\"\n",
    "df = df.replace(True, 1)\n",
    "df = df.replace(False, 0)\n",
    "\n",
    "\n",
    "# Remove vehicles that never sold as it is confusing the model\n",
    "# Remove manual_trans_bool as it is confusing the model\n",
    "# Remove carfax_bool\n",
    "# df = df.drop(\"Sale_Status\", axis=1)\n",
    "df = df[df.Sale_Status == 1]\n",
    "df = df.drop(\"Sale_Status\", axis=1)\n",
    "df = df.drop(\"manual_trans_bool\", axis=1)\n",
    "df = df.drop(\"carfax_bool\", axis=1)\n",
    "df = df.drop(\"auction_day\", axis=1)\n",
    "\n",
    "# Turn everything lowercase\n",
    "df['Make'] = df['Make'].str.lower()\n",
    "df['Model'] = df['Model'].str.lower()\n",
    "\n",
    "# Remove 'erasXXXX' or 'origin' in Makes as they are useless\n",
    "make_rem_lst = list(set([make for make in df.Make if 'era1' in make or 'era2' in make or 'origin' in make]))\n",
    "df = df[~df.Make.isin(make_rem_lst)]\n",
    "\n",
    "# Remove 'erasXXXX' or 'origin' in Makes as they are useless\n",
    "model_rem_lst = list(set([model for model in df.Model if 'era1' in model or 'era2' in model or 'origin' in model]))\n",
    "df = df[~df.Model.isin(model_rem_lst)]\n",
    "\n",
    "df.head()\n"
   ]
  },
  {
   "cell_type": "code",
   "execution_count": 170,
   "id": "1064a84d-2193-42a1-a1f1-f320c0dce439",
   "metadata": {},
   "outputs": [
    {
     "data": {
      "text/plain": [
       "(53448, 8)"
      ]
     },
     "execution_count": 170,
     "metadata": {},
     "output_type": "execute_result"
    }
   ],
   "source": [
    "# print(df.Model.unique())\n",
    "\n",
    "df.shape"
   ]
  },
  {
   "cell_type": "code",
   "execution_count": 172,
   "id": "ebe60d27-ce9d-4479-a05d-a533caa05b8c",
   "metadata": {},
   "outputs": [
    {
     "name": "stdout",
     "output_type": "stream",
     "text": [
      "Before:\n",
      " Make               0\n",
      "Model              0\n",
      "Miles              0\n",
      "Final Bid Price    0\n",
      "paint_str          0\n",
      "auction_year       0\n",
      "auction_month      0\n",
      "adj_model_year     0\n",
      "dtype: int64\n",
      "78\n",
      "\n",
      "After:\n",
      " Make               0\n",
      "Model              0\n",
      "Miles              0\n",
      "Final Bid Price    0\n",
      "paint_str          0\n",
      "auction_year       0\n",
      "auction_month      0\n",
      "adj_model_year     0\n",
      "dtype: int64\n"
     ]
    },
    {
     "data": {
      "text/html": [
       "<div>\n",
       "<style scoped>\n",
       "    .dataframe tbody tr th:only-of-type {\n",
       "        vertical-align: middle;\n",
       "    }\n",
       "\n",
       "    .dataframe tbody tr th {\n",
       "        vertical-align: top;\n",
       "    }\n",
       "\n",
       "    .dataframe thead th {\n",
       "        text-align: right;\n",
       "    }\n",
       "</style>\n",
       "<table border=\"1\" class=\"dataframe\">\n",
       "  <thead>\n",
       "    <tr style=\"text-align: right;\">\n",
       "      <th></th>\n",
       "      <th>Make</th>\n",
       "      <th>Model</th>\n",
       "      <th>Miles</th>\n",
       "      <th>paint_str</th>\n",
       "      <th>auction_year</th>\n",
       "      <th>auction_month</th>\n",
       "      <th>adj_model_year</th>\n",
       "    </tr>\n",
       "  </thead>\n",
       "  <tbody>\n",
       "    <tr>\n",
       "      <th>30635</th>\n",
       "      <td>honda</td>\n",
       "      <td>accord</td>\n",
       "      <td>18000.0</td>\n",
       "      <td>gold</td>\n",
       "      <td>2022</td>\n",
       "      <td>9</td>\n",
       "      <td>1989.0</td>\n",
       "    </tr>\n",
       "    <tr>\n",
       "      <th>30636</th>\n",
       "      <td>honda</td>\n",
       "      <td>accord</td>\n",
       "      <td>62000.0</td>\n",
       "      <td>blue</td>\n",
       "      <td>2022</td>\n",
       "      <td>8</td>\n",
       "      <td>1977.0</td>\n",
       "    </tr>\n",
       "    <tr>\n",
       "      <th>30638</th>\n",
       "      <td>honda</td>\n",
       "      <td>accord</td>\n",
       "      <td>68000.0</td>\n",
       "      <td>white</td>\n",
       "      <td>2022</td>\n",
       "      <td>4</td>\n",
       "      <td>1991.0</td>\n",
       "    </tr>\n",
       "    <tr>\n",
       "      <th>30639</th>\n",
       "      <td>honda</td>\n",
       "      <td>accord</td>\n",
       "      <td>102000.0</td>\n",
       "      <td>beige</td>\n",
       "      <td>2022</td>\n",
       "      <td>4</td>\n",
       "      <td>1987.0</td>\n",
       "    </tr>\n",
       "    <tr>\n",
       "      <th>30640</th>\n",
       "      <td>honda</td>\n",
       "      <td>accord</td>\n",
       "      <td>98000.0</td>\n",
       "      <td>brown</td>\n",
       "      <td>2022</td>\n",
       "      <td>3</td>\n",
       "      <td>1992.0</td>\n",
       "    </tr>\n",
       "  </tbody>\n",
       "</table>\n",
       "</div>"
      ],
      "text/plain": [
       "        Make   Model     Miles paint_str  auction_year  auction_month  \\\n",
       "30635  honda  accord   18000.0      gold          2022              9   \n",
       "30636  honda  accord   62000.0      blue          2022              8   \n",
       "30638  honda  accord   68000.0     white          2022              4   \n",
       "30639  honda  accord  102000.0     beige          2022              4   \n",
       "30640  honda  accord   98000.0     brown          2022              3   \n",
       "\n",
       "       adj_model_year  \n",
       "30635          1989.0  \n",
       "30636          1977.0  \n",
       "30638          1991.0  \n",
       "30639          1987.0  \n",
       "30640          1992.0  "
      ]
     },
     "execution_count": 172,
     "metadata": {},
     "output_type": "execute_result"
    }
   ],
   "source": [
    "# Check for nan values\n",
    "print('Before:\\n', df.isna().sum())\n",
    "\n",
    "# Convert any nan paint colors to None\n",
    "df.paint_str = df.paint_str.fillna(\"None\")\n",
    "\n",
    "# Drop any leftover nans\n",
    "df = df.dropna()\n",
    "print(df.Make.nunique())\n",
    "\n",
    "# Check nan values again\n",
    "print('\\nAfter:\\n', df.isna().sum())\n",
    "\n",
    "\n",
    "df = df[df.Make == 'honda']\n",
    "\n",
    "y = df[target_feature]\n",
    "X = df.drop(target_feature, axis=1)\n",
    "X.head()"
   ]
  },
  {
   "cell_type": "code",
   "execution_count": 173,
   "id": "8e3a0a21-faa6-4918-a9dc-4c254e56f468",
   "metadata": {},
   "outputs": [
    {
     "data": {
      "text/plain": [
       "<AxesSubplot:>"
      ]
     },
     "execution_count": 173,
     "metadata": {},
     "output_type": "execute_result"
    },
    {
     "data": {
      "image/png": "[encoded data removed]",
      "text/plain": [
       "<Figure size 640x480 with 2 Axes>"
      ]
     },
     "metadata": {},
     "output_type": "display_data"
    }
   ],
   "source": [
    "# sns.set(rc={\"figure.figsize\":(9, 9)})\n",
    "sns.heatmap(df.corr(), annot = True)"
   ]
  },
  {
   "cell_type": "code",
   "execution_count": 174,
   "id": "fb1dda30-ebe0-432c-988a-1ef7cb71cee1",
   "metadata": {},
   "outputs": [
    {
     "name": "stdout",
     "output_type": "stream",
     "text": [
      "\n",
      "Calculating Numerical and Categorical Features...\n",
      "There are 7 total columns.\n",
      "There are 4 numerical features.\n",
      "There are 3 categorical features. \n",
      "\n",
      "Index(['Make', 'Model', 'Miles', 'paint_str', 'auction_year', 'auction_month',\n",
      "       'adj_model_year'],\n",
      "      dtype='object')\n",
      "Fetching Preprocessing Pipeline...\n",
      "\n"
     ]
    }
   ],
   "source": [
    "## Find Numerical & Categorical Columns\n",
    "# Get numerical and categorical feature columns\n",
    "print('\\nCalculating Numerical and Categorical Features...')\n",
    "print(f'There are {len(X.columns)} total columns.')\n",
    "\n",
    "numerical_features = X.select_dtypes(include='number').columns.tolist()\n",
    "print(f'There are {len(numerical_features)} numerical features.')\n",
    "\n",
    "categorical_features = X.select_dtypes(exclude='number').columns.tolist()\n",
    "print(f'There are {len(categorical_features)} categorical features.', '\\n')\n",
    "\n",
    "print(X.columns)\n",
    "\n",
    "## Pre-Process Data\n",
    "\n",
    "print('Fetching Preprocessing Pipeline...\\n')\n",
    "\n",
    "numeric_pipeline = Pipeline(steps=[\n",
    "    ('impute', SimpleImputer(strategy='mean', missing_values=np.nan)),\n",
    "    ('scale', MinMaxScaler())\n",
    "])\n",
    "\n",
    "categorical_pipeline = Pipeline(steps=[\n",
    "    ('impute', SimpleImputer(strategy='most_frequent', missing_values=np.nan)),\n",
    "    ('one-hot', OneHotEncoder(handle_unknown='ignore', sparse=False))\n",
    "])\n",
    "\n",
    "full_processor = ColumnTransformer(transformers=[\n",
    "    ('number', numeric_pipeline, numerical_features),\n",
    "    ('category', categorical_pipeline, categorical_features)\n",
    "])\n",
    "\n",
    "\n",
    "X_train, X_valid, y_train, y_valid = train_test_split(X, y, test_size=0.20, random_state=42)\n",
    "\n",
    "\n",
    "# Try this\n",
    "# X_train_num = pd.DataFrame(numeric_pipeline.fit_transform(X_train[numerical_features]))\n",
    "# X_train_num.columns = numeric_pipeline.get_feature_names_out()\n",
    "# X_train_cat = pd.DataFrame(categorical_pipeline.fit_transform(X_train[categorical_features]))\n",
    "# X_train_cat.columns = categorical_pipeline.get_feature_names_out()\n",
    "# # X_train_merged = pd.concat([X_train_num, X_train_cat], ignore_index=True)\n",
    "# X_train_merged = pd.concat([X_train_num, X_train_cat], axis=1)\n",
    "\n",
    "# print(X_train_merged.head())\n",
    "\n",
    "# print(X_train_num)\n",
    "\n",
    "\n",
    "X_train_transformed = full_processor.fit_transform(X_train)\n",
    "# X_valid_transformed = full_processor.transform(X_valid)\n",
    "\n",
    "model = XGBRegressor(n_estimators=100, random_state=42, learning_rate=0.1, verbosity=1)\n",
    "# model = ltb.LGBMClassifier(random_state=42, n_estimators=100, max_depth=3, learning_rate=0.1, verbosity=1,\n",
    "#                             early_stopping_rounds=10, eval_set=[(X_valid_transformed, y_valid)])\n",
    "\n",
    "\n",
    "model_pipeline = Pipeline(steps=[\n",
    "        ('preprocessor', full_processor),\n",
    "        ('model', model)\n",
    "    ])\n",
    "\n",
    "# fit_params = {\"model__eval_set\": [(X_valid_transformed, y_valid)], \n",
    "#               \"model__early_stopping_rounds\": 5,\n",
    "#               \"model__verbosity\": 0}\n",
    "\n",
    "# model.set_params(**fit_params)"
   ]
  },
  {
   "cell_type": "code",
   "execution_count": 175,
   "id": "29e2dd7b-e4d1-4c49-8c71-63fd28c601a1",
   "metadata": {},
   "outputs": [
    {
     "name": "stdout",
     "output_type": "stream",
     "text": [
      "1592 1592\n"
     ]
    }
   ],
   "source": [
    "print(len(X_train), len(y_train))"
   ]
  },
  {
   "cell_type": "code",
   "execution_count": 176,
   "id": "bc7785df-b08b-4c48-91c3-45d5d55aa8d2",
   "metadata": {
    "tags": []
   },
   "outputs": [],
   "source": [
    "# print(len(X_train), len(y_train))\n",
    "# Preprocessing of training data, fit model \n",
    "# model_pipeline.fit(X_train, y_train, **fit_params)\n",
    "hist = model_pipeline.fit(X_train, y_train)#, model__eval_metric=['mse'], model__eval_set=[(X_train, y_train), (X_valid_transformed, y_valid)], \n",
    "            #model__early_stopping_rounds=20)"
   ]
  },
  {
   "cell_type": "code",
   "execution_count": 177,
   "id": "62742610-7a12-45fb-9f62-781bdbe2dc9f",
   "metadata": {},
   "outputs": [
    {
     "name": "stdout",
     "output_type": "stream",
     "text": [
      "MAE: 4157.37601766155\n"
     ]
    }
   ],
   "source": [
    "# Preprocessing of validation data, get predictions\n",
    "preds = model_pipeline.predict(X_valid)\n",
    "\n",
    "# Evaluate the model\n",
    "print('MAE:', mean_absolute_error(y_valid, preds))"
   ]
  },
  {
   "cell_type": "code",
   "execution_count": 178,
   "id": "9b3ea9e4-6dfb-4bba-97f5-f762d1ab3835",
   "metadata": {},
   "outputs": [
    {
     "data": {
      "text/plain": [
       "{'f0': 1315.0,\n",
       " 'f1': 455.0,\n",
       " 'f2': 473.0,\n",
       " 'f3': 610.0,\n",
       " 'f5': 14.0,\n",
       " 'f6': 7.0,\n",
       " 'f8': 9.0,\n",
       " 'f9': 15.0,\n",
       " 'f10': 44.0,\n",
       " 'f11': 34.0,\n",
       " 'f12': 4.0,\n",
       " 'f14': 73.0,\n",
       " 'f15': 12.0,\n",
       " 'f16': 28.0,\n",
       " 'f17': 74.0,\n",
       " 'f18': 26.0,\n",
       " 'f19': 8.0,\n",
       " 'f20': 38.0,\n",
       " 'f21': 2.0,\n",
       " 'f22': 71.0,\n",
       " 'f23': 56.0,\n",
       " 'f24': 14.0,\n",
       " 'f25': 7.0,\n",
       " 'f26': 20.0,\n",
       " 'f27': 14.0,\n",
       " 'f28': 17.0,\n",
       " 'f29': 2.0,\n",
       " 'f30': 75.0,\n",
       " 'f31': 61.0,\n",
       " 'f32': 80.0,\n",
       " 'f33': 53.0}"
      ]
     },
     "execution_count": 178,
     "metadata": {},
     "output_type": "execute_result"
    }
   ],
   "source": [
    "# hist.get_booster().get_score(importance_type='gain')\n",
    "hist.named_steps['model'].get_booster().get_score(importance_type='weight')"
   ]
  },
  {
   "cell_type": "markdown",
   "id": "de994eb2-4efd-4df9-806c-cb009d7f4706",
   "metadata": {},
   "source": [
    "## Testing Predictions"
   ]
  },
  {
   "cell_type": "code",
   "execution_count": 179,
   "id": "5c8e0c9e-36ec-4b94-8506-dae3b8f27f81",
   "metadata": {},
   "outputs": [],
   "source": [
    "# X_valid[X_valid[\"Make\"] == \"Subaru\"]\n",
    "# X_valid.loc[[63667]]\n",
    "# # X_valid.loc[[63607]]\n",
    "# # y_valid.loc[[63667]]"
   ]
  },
  {
   "cell_type": "code",
   "execution_count": 180,
   "id": "19828e48-47c4-48f2-956b-cc34ee0aab5a",
   "metadata": {},
   "outputs": [
    {
     "data": {
      "text/plain": [
       "array([17350.812], dtype=float32)"
      ]
     },
     "execution_count": 180,
     "metadata": {},
     "output_type": "execute_result"
    }
   ],
   "source": [
    "tst_data = [\"subaru\", \"wrx sti\", 55000, \"blue\", 2022, 5, 2004]\n",
    "columns = ['Make', 'Model', 'Miles', 'paint_str', 'auction_year', 'auction_month', 'adj_model_year']\n",
    "tst = pd.DataFrame()\n",
    "for idx, col in enumerate(columns):\n",
    "    tst[col] = pd.Series(tst_data[idx])\n",
    "preds = model_pipeline.predict(tst)\n",
    "preds"
   ]
  },
  {
   "cell_type": "code",
   "execution_count": 1,
   "id": "3d4303a5-7711-43f6-a812-2b914cdfe883",
   "metadata": {},
   "outputs": [
    {
     "ename": "KeyboardInterrupt",
     "evalue": "",
     "output_type": "error",
     "traceback": [
      "\u001b[0;31m---------------------------------------------------------------------------\u001b[0m",
      "\u001b[0;31mKeyboardInterrupt\u001b[0m                         Traceback (most recent call last)",
      "Cell \u001b[0;32mIn [1], line 5\u001b[0m\n\u001b[1;32m      3\u001b[0m \u001b[38;5;28;01mimport\u001b[39;00m \u001b[38;5;21;01mpickle\u001b[39;00m\n\u001b[1;32m      4\u001b[0m \u001b[38;5;28;01mfrom\u001b[39;00m \u001b[38;5;21;01mnumpy\u001b[39;00m\u001b[38;5;21;01m.\u001b[39;00m\u001b[38;5;21;01mrandom\u001b[39;00m \u001b[38;5;28;01mimport\u001b[39;00m RandomState\n\u001b[0;32m----> 5\u001b[0m \u001b[38;5;28;01mfrom\u001b[39;00m \u001b[38;5;21;01msklearn\u001b[39;00m \u001b[38;5;28;01mimport\u001b[39;00m datasets\n\u001b[1;32m      6\u001b[0m \u001b[38;5;28;01mfrom\u001b[39;00m \u001b[38;5;21;01msklearn\u001b[39;00m\u001b[38;5;21;01m.\u001b[39;00m\u001b[38;5;21;01mmodel_selection\u001b[39;00m \u001b[38;5;28;01mimport\u001b[39;00m train_test_split\n\u001b[1;32m      7\u001b[0m \u001b[38;5;28;01mfrom\u001b[39;00m \u001b[38;5;21;01msklearn\u001b[39;00m\u001b[38;5;21;01m.\u001b[39;00m\u001b[38;5;21;01mpreprocessing\u001b[39;00m \u001b[38;5;28;01mimport\u001b[39;00m MinMaxScaler\n",
      "File \u001b[0;32m~/.local/lib/python3.8/site-packages/sklearn/__init__.py:82\u001b[0m\n\u001b[1;32m     80\u001b[0m \u001b[38;5;28;01mfrom\u001b[39;00m \u001b[38;5;21;01m.\u001b[39;00m \u001b[38;5;28;01mimport\u001b[39;00m _distributor_init  \u001b[38;5;66;03m# noqa: F401\u001b[39;00m\n\u001b[1;32m     81\u001b[0m \u001b[38;5;28;01mfrom\u001b[39;00m \u001b[38;5;21;01m.\u001b[39;00m \u001b[38;5;28;01mimport\u001b[39;00m __check_build  \u001b[38;5;66;03m# noqa: F401\u001b[39;00m\n\u001b[0;32m---> 82\u001b[0m \u001b[38;5;28;01mfrom\u001b[39;00m \u001b[38;5;21;01m.\u001b[39;00m\u001b[38;5;21;01mbase\u001b[39;00m \u001b[38;5;28;01mimport\u001b[39;00m clone\n\u001b[1;32m     83\u001b[0m \u001b[38;5;28;01mfrom\u001b[39;00m \u001b[38;5;21;01m.\u001b[39;00m\u001b[38;5;21;01mutils\u001b[39;00m\u001b[38;5;21;01m.\u001b[39;00m\u001b[38;5;21;01m_show_versions\u001b[39;00m \u001b[38;5;28;01mimport\u001b[39;00m show_versions\n\u001b[1;32m     85\u001b[0m __all__ \u001b[38;5;241m=\u001b[39m [\n\u001b[1;32m     86\u001b[0m     \u001b[38;5;124m\"\u001b[39m\u001b[38;5;124mcalibration\u001b[39m\u001b[38;5;124m\"\u001b[39m,\n\u001b[1;32m     87\u001b[0m     \u001b[38;5;124m\"\u001b[39m\u001b[38;5;124mcluster\u001b[39m\u001b[38;5;124m\"\u001b[39m,\n\u001b[0;32m   (...)\u001b[0m\n\u001b[1;32m    128\u001b[0m     \u001b[38;5;124m\"\u001b[39m\u001b[38;5;124mshow_versions\u001b[39m\u001b[38;5;124m\"\u001b[39m,\n\u001b[1;32m    129\u001b[0m ]\n",
      "File \u001b[0;32m~/.local/lib/python3.8/site-packages/sklearn/base.py:17\u001b[0m\n\u001b[1;32m     15\u001b[0m \u001b[38;5;28;01mfrom\u001b[39;00m \u001b[38;5;21;01m.\u001b[39;00m \u001b[38;5;28;01mimport\u001b[39;00m __version__\n\u001b[1;32m     16\u001b[0m \u001b[38;5;28;01mfrom\u001b[39;00m \u001b[38;5;21;01m.\u001b[39;00m\u001b[38;5;21;01m_config\u001b[39;00m \u001b[38;5;28;01mimport\u001b[39;00m get_config\n\u001b[0;32m---> 17\u001b[0m \u001b[38;5;28;01mfrom\u001b[39;00m \u001b[38;5;21;01m.\u001b[39;00m\u001b[38;5;21;01mutils\u001b[39;00m \u001b[38;5;28;01mimport\u001b[39;00m _IS_32BIT\n\u001b[1;32m     18\u001b[0m \u001b[38;5;28;01mfrom\u001b[39;00m \u001b[38;5;21;01m.\u001b[39;00m\u001b[38;5;21;01mutils\u001b[39;00m\u001b[38;5;21;01m.\u001b[39;00m\u001b[38;5;21;01m_tags\u001b[39;00m \u001b[38;5;28;01mimport\u001b[39;00m (\n\u001b[1;32m     19\u001b[0m     _DEFAULT_TAGS,\n\u001b[1;32m     20\u001b[0m )\n\u001b[1;32m     21\u001b[0m \u001b[38;5;28;01mfrom\u001b[39;00m \u001b[38;5;21;01m.\u001b[39;00m\u001b[38;5;21;01mutils\u001b[39;00m\u001b[38;5;21;01m.\u001b[39;00m\u001b[38;5;21;01mvalidation\u001b[39;00m \u001b[38;5;28;01mimport\u001b[39;00m check_X_y\n",
      "File \u001b[0;32m~/.local/lib/python3.8/site-packages/sklearn/utils/__init__.py:29\u001b[0m\n\u001b[1;32m     27\u001b[0m \u001b[38;5;28;01mfrom\u001b[39;00m \u001b[38;5;21;01m.\u001b[39;00m\u001b[38;5;21;01m.\u001b[39;00m\u001b[38;5;21;01mexceptions\u001b[39;00m \u001b[38;5;28;01mimport\u001b[39;00m DataConversionWarning\n\u001b[1;32m     28\u001b[0m \u001b[38;5;28;01mfrom\u001b[39;00m \u001b[38;5;21;01m.\u001b[39;00m\u001b[38;5;21;01mdeprecation\u001b[39;00m \u001b[38;5;28;01mimport\u001b[39;00m deprecated\n\u001b[0;32m---> 29\u001b[0m \u001b[38;5;28;01mfrom\u001b[39;00m \u001b[38;5;21;01m.\u001b[39;00m\u001b[38;5;21;01mfixes\u001b[39;00m \u001b[38;5;28;01mimport\u001b[39;00m parse_version, threadpool_info\n\u001b[1;32m     30\u001b[0m \u001b[38;5;28;01mfrom\u001b[39;00m \u001b[38;5;21;01m.\u001b[39;00m\u001b[38;5;21;01m_estimator_html_repr\u001b[39;00m \u001b[38;5;28;01mimport\u001b[39;00m estimator_html_repr\n\u001b[1;32m     31\u001b[0m \u001b[38;5;28;01mfrom\u001b[39;00m \u001b[38;5;21;01m.\u001b[39;00m\u001b[38;5;21;01mvalidation\u001b[39;00m \u001b[38;5;28;01mimport\u001b[39;00m (\n\u001b[1;32m     32\u001b[0m     as_float_array,\n\u001b[1;32m     33\u001b[0m     assert_all_finite,\n\u001b[0;32m   (...)\u001b[0m\n\u001b[1;32m     41\u001b[0m     check_scalar,\n\u001b[1;32m     42\u001b[0m )\n",
      "File \u001b[0;32m~/.local/lib/python3.8/site-packages/sklearn/utils/fixes.py:19\u001b[0m\n\u001b[1;32m     17\u001b[0m \u001b[38;5;28;01mimport\u001b[39;00m \u001b[38;5;21;01mnumpy\u001b[39;00m \u001b[38;5;28;01mas\u001b[39;00m \u001b[38;5;21;01mnp\u001b[39;00m\n\u001b[1;32m     18\u001b[0m \u001b[38;5;28;01mimport\u001b[39;00m \u001b[38;5;21;01mscipy\u001b[39;00m\n\u001b[0;32m---> 19\u001b[0m \u001b[38;5;28;01mimport\u001b[39;00m \u001b[38;5;21;01mscipy\u001b[39;00m\u001b[38;5;21;01m.\u001b[39;00m\u001b[38;5;21;01mstats\u001b[39;00m\n\u001b[1;32m     20\u001b[0m \u001b[38;5;28;01mimport\u001b[39;00m \u001b[38;5;21;01mthreadpoolctl\u001b[39;00m\n\u001b[1;32m     21\u001b[0m \u001b[38;5;28;01mfrom\u001b[39;00m \u001b[38;5;21;01m.\u001b[39;00m\u001b[38;5;21;01m.\u001b[39;00m\u001b[38;5;21;01m_config\u001b[39;00m \u001b[38;5;28;01mimport\u001b[39;00m config_context, get_config\n",
      "File \u001b[0;32m~/Library/jupyterlab-desktop/jlab_server/lib/python3.8/site-packages/scipy/stats/__init__.py:467\u001b[0m\n\u001b[1;32m      1\u001b[0m \u001b[38;5;124;03m\"\"\"\u001b[39;00m\n\u001b[1;32m      2\u001b[0m \u001b[38;5;124;03m.. _statsrefmanual:\u001b[39;00m\n\u001b[1;32m      3\u001b[0m \n\u001b[0;32m   (...)\u001b[0m\n\u001b[1;32m    462\u001b[0m \n\u001b[1;32m    463\u001b[0m \u001b[38;5;124;03m\"\"\"\u001b[39;00m\n\u001b[1;32m    465\u001b[0m \u001b[38;5;28;01mfrom\u001b[39;00m \u001b[38;5;21;01m.\u001b[39;00m\u001b[38;5;21;01m_warnings_errors\u001b[39;00m \u001b[38;5;28;01mimport\u001b[39;00m (ConstantInputWarning, NearConstantInputWarning,\n\u001b[1;32m    466\u001b[0m                                DegenerateDataWarning, FitError)\n\u001b[0;32m--> 467\u001b[0m \u001b[38;5;28;01mfrom\u001b[39;00m \u001b[38;5;21;01m.\u001b[39;00m\u001b[38;5;21;01m_stats_py\u001b[39;00m \u001b[38;5;28;01mimport\u001b[39;00m \u001b[38;5;241m*\u001b[39m\n\u001b[1;32m    468\u001b[0m \u001b[38;5;28;01mfrom\u001b[39;00m \u001b[38;5;21;01m.\u001b[39;00m\u001b[38;5;21;01m_variation\u001b[39;00m \u001b[38;5;28;01mimport\u001b[39;00m variation\n\u001b[1;32m    469\u001b[0m \u001b[38;5;28;01mfrom\u001b[39;00m \u001b[38;5;21;01m.\u001b[39;00m\u001b[38;5;21;01mdistributions\u001b[39;00m \u001b[38;5;28;01mimport\u001b[39;00m \u001b[38;5;241m*\u001b[39m\n",
      "File \u001b[0;32m~/Library/jupyterlab-desktop/jlab_server/lib/python3.8/site-packages/scipy/stats/_stats_py.py:46\u001b[0m\n\u001b[1;32m     44\u001b[0m \u001b[38;5;28;01mimport\u001b[39;00m \u001b[38;5;21;01mscipy\u001b[39;00m\u001b[38;5;21;01m.\u001b[39;00m\u001b[38;5;21;01mspecial\u001b[39;00m \u001b[38;5;28;01mas\u001b[39;00m \u001b[38;5;21;01mspecial\u001b[39;00m\n\u001b[1;32m     45\u001b[0m \u001b[38;5;28;01mfrom\u001b[39;00m \u001b[38;5;21;01mscipy\u001b[39;00m \u001b[38;5;28;01mimport\u001b[39;00m linalg\n\u001b[0;32m---> 46\u001b[0m \u001b[38;5;28;01mfrom\u001b[39;00m \u001b[38;5;21;01m.\u001b[39;00m \u001b[38;5;28;01mimport\u001b[39;00m distributions\n\u001b[1;32m     47\u001b[0m \u001b[38;5;28;01mfrom\u001b[39;00m \u001b[38;5;21;01m.\u001b[39;00m \u001b[38;5;28;01mimport\u001b[39;00m _mstats_basic \u001b[38;5;28;01mas\u001b[39;00m mstats_basic\n\u001b[1;32m     48\u001b[0m \u001b[38;5;28;01mfrom\u001b[39;00m \u001b[38;5;21;01m.\u001b[39;00m\u001b[38;5;21;01m_stats_mstats_common\u001b[39;00m \u001b[38;5;28;01mimport\u001b[39;00m (_find_repeats, linregress, theilslopes,\n\u001b[1;32m     49\u001b[0m                                    siegelslopes)\n",
      "File \u001b[0;32m~/Library/jupyterlab-desktop/jlab_server/lib/python3.8/site-packages/scipy/stats/distributions.py:10\u001b[0m\n\u001b[1;32m      1\u001b[0m \u001b[38;5;66;03m#\u001b[39;00m\n\u001b[1;32m      2\u001b[0m \u001b[38;5;66;03m# Author:  Travis Oliphant  2002-2011 with contributions from\u001b[39;00m\n\u001b[1;32m      3\u001b[0m \u001b[38;5;66;03m#          SciPy Developers 2004-2011\u001b[39;00m\n\u001b[0;32m   (...)\u001b[0m\n\u001b[1;32m      6\u001b[0m \u001b[38;5;66;03m#       instead of `git blame -Lxxx,+x`.\u001b[39;00m\n\u001b[1;32m      7\u001b[0m \u001b[38;5;66;03m#\u001b[39;00m\n\u001b[1;32m      8\u001b[0m \u001b[38;5;28;01mfrom\u001b[39;00m \u001b[38;5;21;01m.\u001b[39;00m\u001b[38;5;21;01m_distn_infrastructure\u001b[39;00m \u001b[38;5;28;01mimport\u001b[39;00m (rv_discrete, rv_continuous, rv_frozen)\n\u001b[0;32m---> 10\u001b[0m \u001b[38;5;28;01mfrom\u001b[39;00m \u001b[38;5;21;01m.\u001b[39;00m \u001b[38;5;28;01mimport\u001b[39;00m _continuous_distns\n\u001b[1;32m     11\u001b[0m \u001b[38;5;28;01mfrom\u001b[39;00m \u001b[38;5;21;01m.\u001b[39;00m \u001b[38;5;28;01mimport\u001b[39;00m _discrete_distns\n\u001b[1;32m     13\u001b[0m \u001b[38;5;28;01mfrom\u001b[39;00m \u001b[38;5;21;01m.\u001b[39;00m\u001b[38;5;21;01m_continuous_distns\u001b[39;00m \u001b[38;5;28;01mimport\u001b[39;00m \u001b[38;5;241m*\u001b[39m\n",
      "File \u001b[0;32m~/Library/jupyterlab-desktop/jlab_server/lib/python3.8/site-packages/scipy/stats/_continuous_distns.py:22\u001b[0m\n\u001b[1;32m     20\u001b[0m \u001b[38;5;28;01mimport\u001b[39;00m \u001b[38;5;21;01mscipy\u001b[39;00m\u001b[38;5;21;01m.\u001b[39;00m\u001b[38;5;21;01mspecial\u001b[39;00m\u001b[38;5;21;01m.\u001b[39;00m\u001b[38;5;21;01m_ufuncs\u001b[39;00m \u001b[38;5;28;01mas\u001b[39;00m \u001b[38;5;21;01mscu\u001b[39;00m\n\u001b[1;32m     21\u001b[0m \u001b[38;5;28;01mfrom\u001b[39;00m \u001b[38;5;21;01mscipy\u001b[39;00m\u001b[38;5;21;01m.\u001b[39;00m\u001b[38;5;21;01m_lib\u001b[39;00m\u001b[38;5;21;01m.\u001b[39;00m\u001b[38;5;21;01m_util\u001b[39;00m \u001b[38;5;28;01mimport\u001b[39;00m _lazyselect, _lazywhere\n\u001b[0;32m---> 22\u001b[0m \u001b[38;5;28;01mfrom\u001b[39;00m \u001b[38;5;21;01m.\u001b[39;00m \u001b[38;5;28;01mimport\u001b[39;00m _stats\n\u001b[1;32m     23\u001b[0m \u001b[38;5;28;01mfrom\u001b[39;00m \u001b[38;5;21;01m.\u001b[39;00m\u001b[38;5;21;01m_tukeylambda_stats\u001b[39;00m \u001b[38;5;28;01mimport\u001b[39;00m (tukeylambda_variance \u001b[38;5;28;01mas\u001b[39;00m _tlvar,\n\u001b[1;32m     24\u001b[0m                                  tukeylambda_kurtosis \u001b[38;5;28;01mas\u001b[39;00m _tlkurt)\n\u001b[1;32m     25\u001b[0m \u001b[38;5;28;01mfrom\u001b[39;00m \u001b[38;5;21;01m.\u001b[39;00m\u001b[38;5;21;01m_distn_infrastructure\u001b[39;00m \u001b[38;5;28;01mimport\u001b[39;00m (\n\u001b[1;32m     26\u001b[0m     get_distribution_names, _kurtosis, _ncx2_cdf, _ncx2_log_pdf, _ncx2_pdf,\n\u001b[1;32m     27\u001b[0m     rv_continuous, _skew, _get_fixed_fit_value, _check_shape, _ShapeInfo)\n",
      "File \u001b[0;32m_stats.pyx:1\u001b[0m, in \u001b[0;36minit scipy.stats._stats\u001b[0;34m()\u001b[0m\n",
      "File \u001b[0;32m<frozen importlib._bootstrap>:389\u001b[0m, in \u001b[0;36mparent\u001b[0;34m(self)\u001b[0m\n",
      "\u001b[0;31mKeyboardInterrupt\u001b[0m: "
     ]
    }
   ],
   "source": [
    "# X_processed = full_processor.fit_transform(X)\n",
    "# print(X_processed)\n",
    "\n",
    "## Train/Test Split\n",
    "\n",
    "# X_train, X_valid, y_train, y_valid = train_test_split(X_processed, y, test_size=0.30, random_state=42)\n",
    "\n",
    "## LightGBM Model Pipeline\n",
    "\n",
    "# print('Creating LightGBM Model...\\n')\n",
    "\n",
    "# # Run model without params to perform grid search\n",
    "# if do_grid_search:\n",
    "#     model = ltb.LGBMClassifier(seed=42, verbose=1)\n",
    "\n",
    "# # Run model with specified params\n",
    "# else: \n",
    "#     # model = ltb.LGBMClassifier(seed=42, verbose=1, n_estimators = n_estimators, learning_rate = lr, max_depth = max_depth)\n",
    "#     model = ltb.LGBMClassifier(random_state=42, n_estimators=n_estimators, num_leaves=64, max_depth=5, learning_rate=lr, n_jobs=-1)\n",
    "\n",
    "# # Create model pipeline including preprocessor\n",
    "# ltb_pipeline = Pipeline(steps=[\n",
    "#     # ('preprocess', preprocessor),\n",
    "#     ('model', model)\n",
    "# ])\n",
    "\n",
    "# print('Fitting XGBoost Model...\\n')\n",
    "# return ltb_pipeline\n",
    "\n",
    "## Grid Search\n",
    "\n",
    "# model = ltb.LGBMClassifier(seed=42, verbosity=2)\n",
    "\n",
    "# param_dict = {\n",
    "#     'model__learning_rate': [0.01, 1, 0.1],\n",
    "#     'model__max_depth': range (1, 5, 1),\n",
    "#     'model__n_estimators': range(60, 200, 40),\n",
    "#     'model__early_stopping_rounds' : [30]\n",
    "# }\n",
    "\n",
    "# print('Starting Grid Search...\\n')\n",
    "# search = GridSearchCV(model, param_dict, \n",
    "#                   cv=3, \n",
    "#                   scoring='neg_mean_absolute_error',\n",
    "#                   verbose=3)\n",
    "\n",
    "# search.fit(X_train, y_train)\n",
    "\n",
    "# print('Best score:', abs(search.best_score_))\n",
    "\n",
    "# print('Best params:', search.best_params_)\n",
    "\n",
    "# print('Best estimator:', search.best_estimator_)\n",
    "\n",
    "# return search.best_params_.values()\n",
    "\n",
    "## Training\n",
    "\n",
    "# # Create and fit model\n",
    "# lgb_model = ltb.LGBMClassifier(random_state=42, n_estimators=100, num_leaves=64, max_depth=5, learning_rate=0.1, n_jobs=-1, verbosity=3)\n",
    "# improved_model = lgb_model.fit(X_train, y_train) \n",
    "\n",
    "# # Get predictions and output results\n",
    "# preds = improved_model.predict(X_valid)\n",
    "# MAE = mean_absolute_error(y_valid, preds)\n",
    "# r2 = improved_model.score(X_valid, y_valid)\n",
    "# print('MAE:', MAE)\n",
    "# print('R2:', r2)\n",
    "\n",
    "# # Create and fit model\n",
    "# xgbr = XGBRegressor(seed=42, max_depth=3, learning_rate=0.1, verbosity=3)\n",
    "# improved_model = xgbr.fit(X_train, y_train) \n",
    "\n",
    "# # Get predictions and output results\n",
    "# preds = improved_model.predict(X_valid)\n",
    "# MAE = mean_absolute_error(y_valid, preds)\n",
    "# r2 = improved_model.score(X_valid, y_valid)\n",
    "# print('MAE:', MAE)\n",
    "# print('R2:', r2)"
   ]
  },
  {
   "cell_type": "code",
   "execution_count": null,
   "id": "b515d21e-c1f8-4964-8b47-4147adcf42c4",
   "metadata": {},
   "outputs": [],
   "source": []
  }
 ],
 "metadata": {
  "kernelspec": {
   "display_name": "bat",
   "language": "python",
   "name": "bat"
  },
  "language_info": {
   "codemirror_mode": {
    "name": "ipython",
    "version": 3
   },
   "file_extension": ".py",
   "mimetype": "text/x-python",
   "name": "python",
   "nbconvert_exporter": "python",
   "pygments_lexer": "ipython3",
   "version": "3.10.6"
  }
 },
 "nbformat": 4,
 "nbformat_minor": 5
}
