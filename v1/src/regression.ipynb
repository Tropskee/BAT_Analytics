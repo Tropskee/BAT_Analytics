{
 "cells": [
  {
   "cell_type": "code",
   "execution_count": 28,
   "id": "1d4d9668-bbec-4a80-bb41-43e07caf78a5",
   "metadata": {},
   "outputs": [
    {
     "name": "stdout",
     "output_type": "stream",
     "text": [
      "Data ingested -- Found 53343 Rows\n"
     ]
    }
   ],
   "source": [
    "import pandas as pd\n",
    "import numpy as np\n",
    "import pickle\n",
    "# from numpy.random import RandomState\n",
    "# from sklearn import datasets\n",
    "from sklearn.model_selection import train_test_split\n",
    "from sklearn.preprocessing import MinMaxScaler\n",
    "from sklearn.pipeline import Pipeline\n",
    "from sklearn.impute import SimpleImputer\n",
    "from sklearn.preprocessing import OneHotEncoder, MinMaxScaler\n",
    "from sklearn.pipeline import Pipeline\n",
    "from sklearn.compose import ColumnTransformer\n",
    "from sklearn.metrics import mean_absolute_error\n",
    "from sklearn.model_selection import GridSearchCV\n",
    "import lightgbm as ltb\n",
    "import os\n",
    "os.environ['KMP_DUPLICATE_LIB_OK']='True'\n",
    "from xgboost import XGBRegressor\n",
    "\n",
    "import seaborn as sns\n",
    "\n",
    "# Make NumPy printouts easier to read.\n",
    "np.set_printoptions(precision=3, suppress=True)\n",
    "\n",
    "## Read CSV\n",
    "data_source = r\"../data/vehicle_data/final_bat_auction_data.csv\"\n",
    "df = pd.read_csv(data_source)\n",
    "\n",
    "print(f'Data ingested -- Found {len(df)} Rows')"
   ]
  },
  {
   "cell_type": "code",
   "execution_count": 29,
   "id": "de9d7db8-9ff4-4824-be88-95b32f9377d1",
   "metadata": {},
   "outputs": [],
   "source": [
    "df.head()\n",
    "df.drop([\"Mileage Notes\", \"Details\"], inplace=True, axis=1)"
   ]
  },
  {
   "cell_type": "code",
   "execution_count": 30,
   "id": "ebe60d27-ce9d-4479-a05d-a533caa05b8c",
   "metadata": {},
   "outputs": [
    {
     "name": "stdout",
     "output_type": "stream",
     "text": [
      "Before:\n",
      " Make               0\n",
      "Model              0\n",
      "Year               0\n",
      "Miles              0\n",
      "Final Bid Price    0\n",
      "color              0\n",
      "auction_year       0\n",
      "engine_size        0\n",
      "cylinders          0\n",
      "dtype: int64\n",
      "74\n",
      "\n",
      "After:\n",
      " Make               0\n",
      "Model              0\n",
      "Year               0\n",
      "Miles              0\n",
      "Final Bid Price    0\n",
      "color              0\n",
      "auction_year       0\n",
      "engine_size        0\n",
      "cylinders          0\n",
      "dtype: int64\n"
     ]
    },
    {
     "data": {
      "text/html": [
       "<div>\n",
       "<style scoped>\n",
       "    .dataframe tbody tr th:only-of-type {\n",
       "        vertical-align: middle;\n",
       "    }\n",
       "\n",
       "    .dataframe tbody tr th {\n",
       "        vertical-align: top;\n",
       "    }\n",
       "\n",
       "    .dataframe thead th {\n",
       "        text-align: right;\n",
       "    }\n",
       "</style>\n",
       "<table border=\"1\" class=\"dataframe\">\n",
       "  <thead>\n",
       "    <tr style=\"text-align: right;\">\n",
       "      <th></th>\n",
       "      <th>Make</th>\n",
       "      <th>Model</th>\n",
       "      <th>Year</th>\n",
       "      <th>Miles</th>\n",
       "      <th>color</th>\n",
       "      <th>auction_year</th>\n",
       "      <th>engine_size</th>\n",
       "      <th>cylinders</th>\n",
       "    </tr>\n",
       "  </thead>\n",
       "  <tbody>\n",
       "    <tr>\n",
       "      <th>0</th>\n",
       "      <td>acura</td>\n",
       "      <td>integra</td>\n",
       "      <td>1997</td>\n",
       "      <td>52000.0</td>\n",
       "      <td>green</td>\n",
       "      <td>2022</td>\n",
       "      <td>1.8</td>\n",
       "      <td>4.0</td>\n",
       "    </tr>\n",
       "    <tr>\n",
       "      <th>1</th>\n",
       "      <td>acura</td>\n",
       "      <td>integra</td>\n",
       "      <td>1995</td>\n",
       "      <td>72000.0</td>\n",
       "      <td>black</td>\n",
       "      <td>2022</td>\n",
       "      <td>1.8</td>\n",
       "      <td>4.0</td>\n",
       "    </tr>\n",
       "    <tr>\n",
       "      <th>2</th>\n",
       "      <td>acura</td>\n",
       "      <td>integra</td>\n",
       "      <td>1995</td>\n",
       "      <td>43000.0</td>\n",
       "      <td>white</td>\n",
       "      <td>2022</td>\n",
       "      <td>1.8</td>\n",
       "      <td>4.0</td>\n",
       "    </tr>\n",
       "    <tr>\n",
       "      <th>3</th>\n",
       "      <td>acura</td>\n",
       "      <td>integra</td>\n",
       "      <td>1994</td>\n",
       "      <td>47000.0</td>\n",
       "      <td>white</td>\n",
       "      <td>2022</td>\n",
       "      <td>1.8</td>\n",
       "      <td>4.0</td>\n",
       "    </tr>\n",
       "    <tr>\n",
       "      <th>4</th>\n",
       "      <td>acura</td>\n",
       "      <td>integra</td>\n",
       "      <td>2000</td>\n",
       "      <td>35000.0</td>\n",
       "      <td>silver</td>\n",
       "      <td>2022</td>\n",
       "      <td>1.8</td>\n",
       "      <td>4.0</td>\n",
       "    </tr>\n",
       "  </tbody>\n",
       "</table>\n",
       "</div>"
      ],
      "text/plain": [
       "    Make    Model  Year    Miles   color  auction_year  engine_size  cylinders\n",
       "0  acura  integra  1997  52000.0   green          2022          1.8        4.0\n",
       "1  acura  integra  1995  72000.0   black          2022          1.8        4.0\n",
       "2  acura  integra  1995  43000.0   white          2022          1.8        4.0\n",
       "3  acura  integra  1994  47000.0   white          2022          1.8        4.0\n",
       "4  acura  integra  2000  35000.0  silver          2022          1.8        4.0"
      ]
     },
     "execution_count": 30,
     "metadata": {},
     "output_type": "execute_result"
    }
   ],
   "source": [
    "# Check for nan values\n",
    "print('Before:\\n', df.isna().sum())\n",
    "\n",
    "# Convert any nan paint colors to None\n",
    "# df.paint_str = df.paint_str.replace(\"None\", np.nan())\n",
    "\n",
    "# Drop any leftover nans\n",
    "df = df.dropna()\n",
    "print(df.Make.nunique())\n",
    "\n",
    "# Check nan values again\n",
    "print('\\nAfter:\\n', df.isna().sum())\n",
    "\n",
    "target_feature = \"Final Bid Price\"\n",
    "\n",
    "y = df[target_feature]\n",
    "X = df.drop(target_feature, axis=1)\n",
    "X.head()"
   ]
  },
  {
   "cell_type": "code",
   "execution_count": 31,
   "id": "1064a84d-2193-42a1-a1f1-f320c0dce439",
   "metadata": {},
   "outputs": [
    {
     "data": {
      "text/plain": [
       "(53343, 9)"
      ]
     },
     "execution_count": 31,
     "metadata": {},
     "output_type": "execute_result"
    }
   ],
   "source": [
    "# print(df.Model.unique())\n",
    "\n",
    "df.shape"
   ]
  },
  {
   "cell_type": "code",
   "execution_count": 32,
   "id": "8e3a0a21-faa6-4918-a9dc-4c254e56f468",
   "metadata": {},
   "outputs": [
    {
     "data": {
      "text/plain": [
       "<AxesSubplot:>"
      ]
     },
     "execution_count": 32,
     "metadata": {},
     "output_type": "execute_result"
    },
    {
     "data": {
      "image/png": "[encoded data removed]",
      "text/plain": [
       "<Figure size 640x480 with 2 Axes>"
      ]
     },
     "metadata": {},
     "output_type": "display_data"
    }
   ],
   "source": [
    "# sns.set(rc={\"figure.figsize\":(9, 9)})\n",
    "sns.heatmap(df.corr(), annot = True)"
   ]
  },
  {
   "cell_type": "code",
   "execution_count": 33,
   "id": "fb1dda30-ebe0-432c-988a-1ef7cb71cee1",
   "metadata": {},
   "outputs": [
    {
     "name": "stdout",
     "output_type": "stream",
     "text": [
      "\n",
      "Calculating Numerical and Categorical Features...\n",
      "There are 8 total columns.\n",
      "There are 5 numerical features.\n",
      "There are 3 categorical features. \n",
      "\n",
      "Index(['Make', 'Model', 'Year', 'Miles', 'color', 'auction_year',\n",
      "       'engine_size', 'cylinders'],\n",
      "      dtype='object')\n",
      "Fetching Preprocessing Pipeline...\n",
      "\n"
     ]
    }
   ],
   "source": [
    "## Find Numerical & Categorical Columns\n",
    "# Get numerical and categorical feature columns\n",
    "print('\\nCalculating Numerical and Categorical Features...')\n",
    "print(f'There are {len(X.columns)} total columns.')\n",
    "\n",
    "numerical_features = X.select_dtypes(include='number').columns.tolist()\n",
    "print(f'There are {len(numerical_features)} numerical features.')\n",
    "\n",
    "categorical_features = X.select_dtypes(exclude='number').columns.tolist()\n",
    "print(f'There are {len(categorical_features)} categorical features.', '\\n')\n",
    "\n",
    "print(X.columns)\n",
    "\n",
    "## Pre-Process Data\n",
    "\n",
    "print('Fetching Preprocessing Pipeline...\\n')\n",
    "\n",
    "numeric_pipeline = Pipeline(steps=[\n",
    "    ('impute', SimpleImputer(strategy='mean', missing_values=np.nan)),\n",
    "    ('scale', MinMaxScaler())\n",
    "])\n",
    "\n",
    "categorical_pipeline = Pipeline(steps=[\n",
    "    ('impute', SimpleImputer(strategy='most_frequent', missing_values=np.nan)),\n",
    "    ('one-hot', OneHotEncoder(handle_unknown='ignore', sparse=False))\n",
    "])\n",
    "\n",
    "full_processor = ColumnTransformer(transformers=[\n",
    "    ('number', numeric_pipeline, numerical_features),\n",
    "    ('category', categorical_pipeline, categorical_features)\n",
    "])\n",
    "\n",
    "\n",
    "X_train, X_valid, y_train, y_valid = train_test_split(X, y, test_size=0.20, random_state=42)\n",
    "\n",
    "\n",
    "# Try this\n",
    "# X_train_num = pd.DataFrame(numeric_pipeline.fit_transform(X_train[numerical_features]))\n",
    "# X_train_num.columns = numeric_pipeline.get_feature_names_out()\n",
    "# X_train_cat = pd.DataFrame(categorical_pipeline.fit_transform(X_train[categorical_features]))\n",
    "# X_train_cat.columns = categorical_pipeline.get_feature_names_out()\n",
    "# # X_train_merged = pd.concat([X_train_num, X_train_cat], ignore_index=True)\n",
    "# X_train_merged = pd.concat([X_train_num, X_train_cat], axis=1)\n",
    "\n",
    "# print(X_train_merged.head())\n",
    "\n",
    "# print(X_train_num)\n",
    "\n",
    "\n",
    "X_train_transformed = full_processor.fit_transform(X_train)\n",
    "# X_valid_transformed = full_processor.transform(X_valid)\n",
    "\n",
    "model = XGBRegressor(n_estimators=100, random_state=42, learning_rate=0.1)\n",
    "# model = ltb.LGBMClassifier(random_state=42, n_estimators=100, max_depth=3, learning_rate=0.1, verbosity=1,\n",
    "#                             early_stopping_rounds=10, eval_set=[(X_valid_transformed, y_valid)])\n",
    "\n",
    "\n",
    "model_pipeline = Pipeline(steps=[\n",
    "        ('preprocessor', full_processor),\n",
    "        ('model', model)\n",
    "    ])\n",
    "\n",
    "# fit_params = {\"model__eval_set\": [(X_valid_transformed, y_valid)], \n",
    "#               \"model__early_stopping_rounds\": 5,\n",
    "#               \"model__verbosity\": 0}\n",
    "\n",
    "# model.set_params(**fit_params)"
   ]
  },
  {
   "cell_type": "code",
   "execution_count": 34,
   "id": "29e2dd7b-e4d1-4c49-8c71-63fd28c601a1",
   "metadata": {},
   "outputs": [
    {
     "name": "stdout",
     "output_type": "stream",
     "text": [
      "42674 42674\n"
     ]
    }
   ],
   "source": [
    "print(len(X_train), len(y_train))"
   ]
  },
  {
   "cell_type": "code",
   "execution_count": 35,
   "id": "bc7785df-b08b-4c48-91c3-45d5d55aa8d2",
   "metadata": {
    "tags": []
   },
   "outputs": [],
   "source": [
    "# print(len(X_train), len(y_train))\n",
    "# Preprocessing of training data, fit model \n",
    "# model_pipeline.fit(X_train, y_train, **fit_params)\n",
    "hist = model_pipeline.fit(X_train, y_train)#, model__eval_metric=['mse'], model__eval_set=[(X_train, y_train), (X_valid_transformed, y_valid)], \n",
    "            #model__early_stopping_rounds=20)"
   ]
  },
  {
   "cell_type": "code",
   "execution_count": 36,
   "id": "62742610-7a12-45fb-9f62-781bdbe2dc9f",
   "metadata": {},
   "outputs": [
    {
     "name": "stdout",
     "output_type": "stream",
     "text": [
      "MAE: 15963.143565259528\n"
     ]
    }
   ],
   "source": [
    "# Preprocessing of validation data, get predictions\n",
    "preds = model_pipeline.predict(X_valid)\n",
    "\n",
    "# Evaluate the model\n",
    "print('MAE:', mean_absolute_error(y_valid, preds))"
   ]
  },
  {
   "cell_type": "code",
   "execution_count": 37,
   "id": "9b3ea9e4-6dfb-4bba-97f5-f762d1ab3835",
   "metadata": {},
   "outputs": [],
   "source": [
    "# hist.get_booster().get_score(importance_type='gain')\n",
    "# hist.named_steps['model'].get_booster().get_score(importance_type='weight')"
   ]
  },
  {
   "cell_type": "markdown",
   "id": "de994eb2-4efd-4df9-806c-cb009d7f4706",
   "metadata": {},
   "source": [
    "## Testing Predictions"
   ]
  },
  {
   "cell_type": "code",
   "execution_count": 41,
   "id": "19828e48-47c4-48f2-956b-cc34ee0aab5a",
   "metadata": {},
   "outputs": [
    {
     "data": {
      "text/plain": [
       "array([129920.48 ,  24323.898, 128616.7  , ...,  16144.995,  44340.777,\n",
       "        54771.207], dtype=float32)"
      ]
     },
     "execution_count": 41,
     "metadata": {},
     "output_type": "execute_result"
    }
   ],
   "source": [
    "preds = model_pipeline.predict(X_valid)\n",
    "preds"
   ]
  },
  {
   "cell_type": "code",
   "execution_count": 43,
   "id": "1d1bf562-fbba-4c85-b58d-45554d43d8e5",
   "metadata": {},
   "outputs": [
    {
     "name": "stdout",
     "output_type": "stream",
     "text": [
      "MAE: 15963.143565259528\n",
      "R2: 0.674477722002149\n"
     ]
    }
   ],
   "source": [
    "MAE = mean_absolute_error(y_valid, preds)\n",
    "r2 = model_pipeline.score(X_valid, y_valid)\n",
    "\n",
    "print('MAE:', MAE)\n",
    "print('R2:', r2)"
   ]
  },
  {
   "cell_type": "code",
   "execution_count": 44,
   "id": "aa457fb3-db1a-43ab-a472-87bd9e10f3b1",
   "metadata": {},
   "outputs": [],
   "source": [
    "# Custom Predictions\n",
    "# tst_data = [\"subaru\", \"wrx sti\", 2004, 55000, \"blue\", 2022, 2.5, 4]\n",
    "# columns = ['Make', 'Model', \"Year\", 'Miles', 'color', 'auction_year', 'engine_size', 'cylinders']\n",
    "# tst = pd.DataFrame()\n",
    "# for idx, col in enumerate(columns):\n",
    "#     tst[col] = pd.Series(tst_data[idx])\n",
    "# preds = model_pipeline.predict(tst)"
   ]
  },
  {
   "cell_type": "code",
   "execution_count": 47,
   "id": "cdf01c97-f005-4e0e-871b-a9fe3c56c5c8",
   "metadata": {},
   "outputs": [
    {
     "name": "stdout",
     "output_type": "stream",
     "text": [
      "Saving Model File\n",
      "\n",
      "Saved Model as ./models/BAT_XGBoost_Model.sav.\n"
     ]
    }
   ],
   "source": [
    "# Save the model to disk\n",
    "print('Saving Model File\\n')\n",
    "filename = r'./models/BAT_XGBoost_Model.sav'\n",
    "pickle.dump(model_pipeline, open(filename, 'wb'))\n",
    "print(f'Saved Model as {filename}.')"
   ]
  },
  {
   "cell_type": "code",
   "execution_count": 39,
   "id": "3d4303a5-7711-43f6-a812-2b914cdfe883",
   "metadata": {},
   "outputs": [],
   "source": [
    "# X_processed = full_processor.fit_transform(X)\n",
    "# print(X_processed)\n",
    "\n",
    "## Train/Test Split\n",
    "\n",
    "# X_train, X_valid, y_train, y_valid = train_test_split(X_processed, y, test_size=0.30, random_state=42)\n",
    "\n",
    "## LightGBM Model Pipeline\n",
    "\n",
    "# print('Creating LightGBM Model...\\n')\n",
    "\n",
    "# # Run model without params to perform grid search\n",
    "# if do_grid_search:\n",
    "#     model = ltb.LGBMClassifier(seed=42, verbose=1)\n",
    "\n",
    "# # Run model with specified params\n",
    "# else: \n",
    "#     # model = ltb.LGBMClassifier(seed=42, verbose=1, n_estimators = n_estimators, learning_rate = lr, max_depth = max_depth)\n",
    "#     model = ltb.LGBMClassifier(random_state=42, n_estimators=n_estimators, num_leaves=64, max_depth=5, learning_rate=lr, n_jobs=-1)\n",
    "\n",
    "# # Create model pipeline including preprocessor\n",
    "# ltb_pipeline = Pipeline(steps=[\n",
    "#     # ('preprocess', preprocessor),\n",
    "#     ('model', model)\n",
    "# ])\n",
    "\n",
    "# print('Fitting XGBoost Model...\\n')\n",
    "# return ltb_pipeline\n",
    "\n",
    "## Grid Search\n",
    "\n",
    "# model = ltb.LGBMClassifier(seed=42, verbosity=2)\n",
    "\n",
    "# param_dict = {\n",
    "#     'model__learning_rate': [0.01, 1, 0.1],\n",
    "#     'model__max_depth': range (1, 5, 1),\n",
    "#     'model__n_estimators': range(60, 200, 40),\n",
    "#     'model__early_stopping_rounds' : [30]\n",
    "# }\n",
    "\n",
    "# print('Starting Grid Search...\\n')\n",
    "# search = GridSearchCV(model, param_dict, \n",
    "#                   cv=3, \n",
    "#                   scoring='neg_mean_absolute_error',\n",
    "#                   verbose=3)\n",
    "\n",
    "# search.fit(X_train, y_train)\n",
    "\n",
    "# print('Best score:', abs(search.best_score_))\n",
    "\n",
    "# print('Best params:', search.best_params_)\n",
    "\n",
    "# print('Best estimator:', search.best_estimator_)\n",
    "\n",
    "# return search.best_params_.values()\n",
    "\n",
    "## Training\n",
    "\n",
    "# # Create and fit model\n",
    "# lgb_model = ltb.LGBMClassifier(random_state=42, n_estimators=100, num_leaves=64, max_depth=5, learning_rate=0.1, n_jobs=-1, verbosity=3)\n",
    "# improved_model = lgb_model.fit(X_train, y_train) \n",
    "\n",
    "# # Get predictions and output results\n",
    "# preds = improved_model.predict(X_valid)\n",
    "# MAE = mean_absolute_error(y_valid, preds)\n",
    "# r2 = improved_model.score(X_valid, y_valid)\n",
    "# print('MAE:', MAE)\n",
    "# print('R2:', r2)\n",
    "\n",
    "# # Create and fit model\n",
    "# xgbr = XGBRegressor(seed=42, max_depth=3, learning_rate=0.1, verbosity=3)\n",
    "# improved_model = xgbr.fit(X_train, y_train) \n",
    "\n",
    "# # Get predictions and output results\n",
    "# preds = improved_model.predict(X_valid)\n",
    "# MAE = mean_absolute_error(y_valid, preds)\n",
    "# r2 = improved_model.score(X_valid, y_valid)\n",
    "# print('MAE:', MAE)\n",
    "# print('R2:', r2)"
   ]
  },
  {
   "cell_type": "code",
   "execution_count": null,
   "id": "b515d21e-c1f8-4964-8b47-4147adcf42c4",
   "metadata": {},
   "outputs": [],
   "source": []
  }
 ],
 "metadata": {
  "kernelspec": {
   "display_name": "bat",
   "language": "python",
   "name": "bat"
  },
  "language_info": {
   "codemirror_mode": {
    "name": "ipython",
    "version": 3
   },
   "file_extension": ".py",
   "mimetype": "text/x-python",
   "name": "python",
   "nbconvert_exporter": "python",
   "pygments_lexer": "ipython3",
   "version": "3.10.6"
  }
 },
 "nbformat": 4,
 "nbformat_minor": 5
}
